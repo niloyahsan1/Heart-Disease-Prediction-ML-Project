{
  "nbformat": 4,
  "nbformat_minor": 0,
  "metadata": {
    "colab": {
      "provenance": []
    },
    "kernelspec": {
      "name": "python3",
      "display_name": "Python 3"
    },
    "language_info": {
      "name": "python"
    }
  },
  "cells": [
    {
      "cell_type": "markdown",
      "source": [
        "## Importing the Libraries"
      ],
      "metadata": {
        "id": "Y-amDtwV4ZuP"
      }
    },
    {
      "cell_type": "code",
      "execution_count": null,
      "metadata": {
        "id": "FpBwjpT62lGF",
        "colab": {
          "base_uri": "https://localhost:8080/"
        },
        "outputId": "a9e19227-00c0-478d-c176-a45ac42e5b59"
      },
      "outputs": [
        {
          "output_type": "stream",
          "name": "stdout",
          "text": [
            "Requirement already satisfied: xgboost in /usr/local/lib/python3.11/dist-packages (2.1.4)\n",
            "Requirement already satisfied: numpy in /usr/local/lib/python3.11/dist-packages (from xgboost) (2.0.2)\n",
            "Requirement already satisfied: nvidia-nccl-cu12 in /usr/local/lib/python3.11/dist-packages (from xgboost) (2.21.5)\n",
            "Requirement already satisfied: scipy in /usr/local/lib/python3.11/dist-packages (from xgboost) (1.14.1)\n"
          ]
        }
      ],
      "source": [
        "# Importing required dependencies\n",
        "!pip install xgboost\n",
        "\n",
        "import numpy as np\n",
        "import pandas as pd\n",
        "import xgboost as xgb\n",
        "import seaborn as sns\n",
        "import matplotlib.pyplot as plt\n",
        "\n",
        "\n",
        "from sklearn.svm import SVC\n",
        "from imblearn.over_sampling import SMOTE\n",
        "from sklearn.impute import SimpleImputer\n",
        "from sklearn.metrics import accuracy_score\n",
        "from sklearn.metrics import confusion_matrix\n",
        "from sklearn.tree import DecisionTreeClassifier\n",
        "from sklearn.preprocessing import StandardScaler\n",
        "from sklearn.metrics import classification_report\n",
        "from sklearn.neighbors import KNeighborsClassifier\n",
        "from sklearn.linear_model import LogisticRegression\n",
        "from sklearn.ensemble import RandomForestClassifier\n",
        "from sklearn.model_selection import train_test_split"
      ]
    },
    {
      "cell_type": "markdown",
      "source": [
        "## Heart Disease Dataset\n",
        "#### *Heart Disease Download Link: [Download](https://github.com/niloyahsan1/Heart-Disease-Prediction-ML-Project/blob/main/Heart_Disease_Dataset.csv)*"
      ],
      "metadata": {
        "id": "1LUVRZFox1HD"
      }
    },
    {
      "cell_type": "markdown",
      "source": [
        "## Load Dataset"
      ],
      "metadata": {
        "id": "xFrQzXhd1Tnl"
      }
    },
    {
      "cell_type": "code",
      "source": [
        "# from google.colab import files\n",
        "# diabetes_dataset = files.upload()"
      ],
      "metadata": {
        "id": "RQDpUcpWyClH"
      },
      "execution_count": null,
      "outputs": []
    },
    {
      "cell_type": "code",
      "source": [
        "# Reading the dataset from GitHub Repo\n",
        "dataset_URL = 'https://raw.githubusercontent.com/niloyahsan1/Heart-Disease-Prediction-ML-Project/main/Heart_Disease_Dataset.csv'\n",
        "\n",
        "df = pd.read_csv(dataset_URL)"
      ],
      "metadata": {
        "id": "gThTl3d33gMv"
      },
      "execution_count": null,
      "outputs": []
    },
    {
      "cell_type": "markdown",
      "source": [
        "## Data Visualization and Preprocessing"
      ],
      "metadata": {
        "id": "XAFR9qKV4VDW"
      }
    },
    {
      "cell_type": "code",
      "source": [
        "# Printing the first 10 rows of the dataset\n",
        "df.head(20)"
      ],
      "metadata": {
        "colab": {
          "base_uri": "https://localhost:8080/",
          "height": 676
        },
        "id": "awEu1WsK4hdm",
        "outputId": "7c472493-dbce-4ccf-d4da-452d2e42bf72"
      },
      "execution_count": null,
      "outputs": [
        {
          "output_type": "execute_result",
          "data": {
            "text/plain": [
              "    gender  age  education  currentSmoker  cigsPerDay  BPMeds  \\\n",
              "0     Male   39        4.0              0         0.0     0.0   \n",
              "1   Female   46        2.0              0         0.0     0.0   \n",
              "2     Male   48        1.0              1        20.0     0.0   \n",
              "3   Female   61        3.0              1        30.0     0.0   \n",
              "4   Female   46        3.0              1        23.0     0.0   \n",
              "5   Female   43        2.0              0         0.0     0.0   \n",
              "6   Female   63        1.0              0         0.0     0.0   \n",
              "7   Female   45        2.0              1        20.0     0.0   \n",
              "8     Male   52        1.0              0         0.0     0.0   \n",
              "9     Male   43        1.0              1        30.0     0.0   \n",
              "10  Female   50        1.0              0         0.0     0.0   \n",
              "11  Female   43        2.0              0         0.0     0.0   \n",
              "12    Male   46        1.0              1        15.0     0.0   \n",
              "13  Female   41        3.0              0         0.0     1.0   \n",
              "14  Female   39        2.0              1         9.0     0.0   \n",
              "15  Female   38        2.0              1        20.0     0.0   \n",
              "16    Male   48        3.0              1        10.0     0.0   \n",
              "17  Female   46        2.0              1        20.0     0.0   \n",
              "18  Female   38        2.0              1         5.0     0.0   \n",
              "19    Male   41        2.0              0         0.0     0.0   \n",
              "\n",
              "    prevalentStroke  prevalentHyp  diabetes  totChol  sysBP  diaBP    BMI  \\\n",
              "0                 0             0         0    195.0  106.0   70.0  26.97   \n",
              "1                 0             0         0    250.0  121.0   81.0  28.73   \n",
              "2                 0             0         0    245.0  127.5   80.0  25.34   \n",
              "3                 0             1         0    225.0  150.0   95.0  28.58   \n",
              "4                 0             0         0    285.0  130.0   84.0  23.10   \n",
              "5                 0             1         0    228.0  180.0  110.0  30.30   \n",
              "6                 0             0         0    205.0  138.0   71.0  33.11   \n",
              "7                 0             0         0    313.0  100.0   71.0  21.68   \n",
              "8                 0             1         0    260.0  141.5   89.0  26.36   \n",
              "9                 0             1         0    225.0  162.0  107.0  23.61   \n",
              "10                0             0         0    254.0  133.0   76.0  22.91   \n",
              "11                0             0         0    247.0  131.0   88.0  27.64   \n",
              "12                0             1         0    294.0  142.0   94.0  26.31   \n",
              "13                0             1         0    332.0  124.0   88.0  31.31   \n",
              "14                0             0         0    226.0  114.0   64.0  22.35   \n",
              "15                0             1         0    221.0  140.0   90.0  21.35   \n",
              "16                0             1         0    232.0  138.0   90.0  22.37   \n",
              "17                0             0         0    291.0  112.0   78.0  23.38   \n",
              "18                0             0         0    195.0  122.0   84.5  23.24   \n",
              "19                0             0         0    195.0  139.0   88.0  26.88   \n",
              "\n",
              "    heartRate  glucose  Heart Disease (in next 10 years)  \n",
              "0        80.0     77.0                                 0  \n",
              "1        95.0     76.0                                 0  \n",
              "2        75.0     70.0                                 0  \n",
              "3        65.0    103.0                                 1  \n",
              "4        85.0     85.0                                 0  \n",
              "5        77.0     99.0                                 0  \n",
              "6        60.0     85.0                                 1  \n",
              "7        79.0     78.0                                 0  \n",
              "8        76.0     79.0                                 0  \n",
              "9        93.0     88.0                                 0  \n",
              "10       75.0     76.0                                 0  \n",
              "11       72.0     61.0                                 0  \n",
              "12       98.0     64.0                                 0  \n",
              "13       65.0     84.0                                 0  \n",
              "14       85.0      NaN                                 0  \n",
              "15       95.0     70.0                                 1  \n",
              "16       64.0     72.0                                 0  \n",
              "17       80.0     89.0                                 1  \n",
              "18       75.0     78.0                                 0  \n",
              "19       85.0     65.0                                 0  "
            ],
            "text/html": [
              "\n",
              "  <div id=\"df-358afb6a-4505-4824-b52d-ad732b488fde\" class=\"colab-df-container\">\n",
              "    <div>\n",
              "<style scoped>\n",
              "    .dataframe tbody tr th:only-of-type {\n",
              "        vertical-align: middle;\n",
              "    }\n",
              "\n",
              "    .dataframe tbody tr th {\n",
              "        vertical-align: top;\n",
              "    }\n",
              "\n",
              "    .dataframe thead th {\n",
              "        text-align: right;\n",
              "    }\n",
              "</style>\n",
              "<table border=\"1\" class=\"dataframe\">\n",
              "  <thead>\n",
              "    <tr style=\"text-align: right;\">\n",
              "      <th></th>\n",
              "      <th>gender</th>\n",
              "      <th>age</th>\n",
              "      <th>education</th>\n",
              "      <th>currentSmoker</th>\n",
              "      <th>cigsPerDay</th>\n",
              "      <th>BPMeds</th>\n",
              "      <th>prevalentStroke</th>\n",
              "      <th>prevalentHyp</th>\n",
              "      <th>diabetes</th>\n",
              "      <th>totChol</th>\n",
              "      <th>sysBP</th>\n",
              "      <th>diaBP</th>\n",
              "      <th>BMI</th>\n",
              "      <th>heartRate</th>\n",
              "      <th>glucose</th>\n",
              "      <th>Heart Disease (in next 10 years)</th>\n",
              "    </tr>\n",
              "  </thead>\n",
              "  <tbody>\n",
              "    <tr>\n",
              "      <th>0</th>\n",
              "      <td>Male</td>\n",
              "      <td>39</td>\n",
              "      <td>4.0</td>\n",
              "      <td>0</td>\n",
              "      <td>0.0</td>\n",
              "      <td>0.0</td>\n",
              "      <td>0</td>\n",
              "      <td>0</td>\n",
              "      <td>0</td>\n",
              "      <td>195.0</td>\n",
              "      <td>106.0</td>\n",
              "      <td>70.0</td>\n",
              "      <td>26.97</td>\n",
              "      <td>80.0</td>\n",
              "      <td>77.0</td>\n",
              "      <td>0</td>\n",
              "    </tr>\n",
              "    <tr>\n",
              "      <th>1</th>\n",
              "      <td>Female</td>\n",
              "      <td>46</td>\n",
              "      <td>2.0</td>\n",
              "      <td>0</td>\n",
              "      <td>0.0</td>\n",
              "      <td>0.0</td>\n",
              "      <td>0</td>\n",
              "      <td>0</td>\n",
              "      <td>0</td>\n",
              "      <td>250.0</td>\n",
              "      <td>121.0</td>\n",
              "      <td>81.0</td>\n",
              "      <td>28.73</td>\n",
              "      <td>95.0</td>\n",
              "      <td>76.0</td>\n",
              "      <td>0</td>\n",
              "    </tr>\n",
              "    <tr>\n",
              "      <th>2</th>\n",
              "      <td>Male</td>\n",
              "      <td>48</td>\n",
              "      <td>1.0</td>\n",
              "      <td>1</td>\n",
              "      <td>20.0</td>\n",
              "      <td>0.0</td>\n",
              "      <td>0</td>\n",
              "      <td>0</td>\n",
              "      <td>0</td>\n",
              "      <td>245.0</td>\n",
              "      <td>127.5</td>\n",
              "      <td>80.0</td>\n",
              "      <td>25.34</td>\n",
              "      <td>75.0</td>\n",
              "      <td>70.0</td>\n",
              "      <td>0</td>\n",
              "    </tr>\n",
              "    <tr>\n",
              "      <th>3</th>\n",
              "      <td>Female</td>\n",
              "      <td>61</td>\n",
              "      <td>3.0</td>\n",
              "      <td>1</td>\n",
              "      <td>30.0</td>\n",
              "      <td>0.0</td>\n",
              "      <td>0</td>\n",
              "      <td>1</td>\n",
              "      <td>0</td>\n",
              "      <td>225.0</td>\n",
              "      <td>150.0</td>\n",
              "      <td>95.0</td>\n",
              "      <td>28.58</td>\n",
              "      <td>65.0</td>\n",
              "      <td>103.0</td>\n",
              "      <td>1</td>\n",
              "    </tr>\n",
              "    <tr>\n",
              "      <th>4</th>\n",
              "      <td>Female</td>\n",
              "      <td>46</td>\n",
              "      <td>3.0</td>\n",
              "      <td>1</td>\n",
              "      <td>23.0</td>\n",
              "      <td>0.0</td>\n",
              "      <td>0</td>\n",
              "      <td>0</td>\n",
              "      <td>0</td>\n",
              "      <td>285.0</td>\n",
              "      <td>130.0</td>\n",
              "      <td>84.0</td>\n",
              "      <td>23.10</td>\n",
              "      <td>85.0</td>\n",
              "      <td>85.0</td>\n",
              "      <td>0</td>\n",
              "    </tr>\n",
              "    <tr>\n",
              "      <th>5</th>\n",
              "      <td>Female</td>\n",
              "      <td>43</td>\n",
              "      <td>2.0</td>\n",
              "      <td>0</td>\n",
              "      <td>0.0</td>\n",
              "      <td>0.0</td>\n",
              "      <td>0</td>\n",
              "      <td>1</td>\n",
              "      <td>0</td>\n",
              "      <td>228.0</td>\n",
              "      <td>180.0</td>\n",
              "      <td>110.0</td>\n",
              "      <td>30.30</td>\n",
              "      <td>77.0</td>\n",
              "      <td>99.0</td>\n",
              "      <td>0</td>\n",
              "    </tr>\n",
              "    <tr>\n",
              "      <th>6</th>\n",
              "      <td>Female</td>\n",
              "      <td>63</td>\n",
              "      <td>1.0</td>\n",
              "      <td>0</td>\n",
              "      <td>0.0</td>\n",
              "      <td>0.0</td>\n",
              "      <td>0</td>\n",
              "      <td>0</td>\n",
              "      <td>0</td>\n",
              "      <td>205.0</td>\n",
              "      <td>138.0</td>\n",
              "      <td>71.0</td>\n",
              "      <td>33.11</td>\n",
              "      <td>60.0</td>\n",
              "      <td>85.0</td>\n",
              "      <td>1</td>\n",
              "    </tr>\n",
              "    <tr>\n",
              "      <th>7</th>\n",
              "      <td>Female</td>\n",
              "      <td>45</td>\n",
              "      <td>2.0</td>\n",
              "      <td>1</td>\n",
              "      <td>20.0</td>\n",
              "      <td>0.0</td>\n",
              "      <td>0</td>\n",
              "      <td>0</td>\n",
              "      <td>0</td>\n",
              "      <td>313.0</td>\n",
              "      <td>100.0</td>\n",
              "      <td>71.0</td>\n",
              "      <td>21.68</td>\n",
              "      <td>79.0</td>\n",
              "      <td>78.0</td>\n",
              "      <td>0</td>\n",
              "    </tr>\n",
              "    <tr>\n",
              "      <th>8</th>\n",
              "      <td>Male</td>\n",
              "      <td>52</td>\n",
              "      <td>1.0</td>\n",
              "      <td>0</td>\n",
              "      <td>0.0</td>\n",
              "      <td>0.0</td>\n",
              "      <td>0</td>\n",
              "      <td>1</td>\n",
              "      <td>0</td>\n",
              "      <td>260.0</td>\n",
              "      <td>141.5</td>\n",
              "      <td>89.0</td>\n",
              "      <td>26.36</td>\n",
              "      <td>76.0</td>\n",
              "      <td>79.0</td>\n",
              "      <td>0</td>\n",
              "    </tr>\n",
              "    <tr>\n",
              "      <th>9</th>\n",
              "      <td>Male</td>\n",
              "      <td>43</td>\n",
              "      <td>1.0</td>\n",
              "      <td>1</td>\n",
              "      <td>30.0</td>\n",
              "      <td>0.0</td>\n",
              "      <td>0</td>\n",
              "      <td>1</td>\n",
              "      <td>0</td>\n",
              "      <td>225.0</td>\n",
              "      <td>162.0</td>\n",
              "      <td>107.0</td>\n",
              "      <td>23.61</td>\n",
              "      <td>93.0</td>\n",
              "      <td>88.0</td>\n",
              "      <td>0</td>\n",
              "    </tr>\n",
              "    <tr>\n",
              "      <th>10</th>\n",
              "      <td>Female</td>\n",
              "      <td>50</td>\n",
              "      <td>1.0</td>\n",
              "      <td>0</td>\n",
              "      <td>0.0</td>\n",
              "      <td>0.0</td>\n",
              "      <td>0</td>\n",
              "      <td>0</td>\n",
              "      <td>0</td>\n",
              "      <td>254.0</td>\n",
              "      <td>133.0</td>\n",
              "      <td>76.0</td>\n",
              "      <td>22.91</td>\n",
              "      <td>75.0</td>\n",
              "      <td>76.0</td>\n",
              "      <td>0</td>\n",
              "    </tr>\n",
              "    <tr>\n",
              "      <th>11</th>\n",
              "      <td>Female</td>\n",
              "      <td>43</td>\n",
              "      <td>2.0</td>\n",
              "      <td>0</td>\n",
              "      <td>0.0</td>\n",
              "      <td>0.0</td>\n",
              "      <td>0</td>\n",
              "      <td>0</td>\n",
              "      <td>0</td>\n",
              "      <td>247.0</td>\n",
              "      <td>131.0</td>\n",
              "      <td>88.0</td>\n",
              "      <td>27.64</td>\n",
              "      <td>72.0</td>\n",
              "      <td>61.0</td>\n",
              "      <td>0</td>\n",
              "    </tr>\n",
              "    <tr>\n",
              "      <th>12</th>\n",
              "      <td>Male</td>\n",
              "      <td>46</td>\n",
              "      <td>1.0</td>\n",
              "      <td>1</td>\n",
              "      <td>15.0</td>\n",
              "      <td>0.0</td>\n",
              "      <td>0</td>\n",
              "      <td>1</td>\n",
              "      <td>0</td>\n",
              "      <td>294.0</td>\n",
              "      <td>142.0</td>\n",
              "      <td>94.0</td>\n",
              "      <td>26.31</td>\n",
              "      <td>98.0</td>\n",
              "      <td>64.0</td>\n",
              "      <td>0</td>\n",
              "    </tr>\n",
              "    <tr>\n",
              "      <th>13</th>\n",
              "      <td>Female</td>\n",
              "      <td>41</td>\n",
              "      <td>3.0</td>\n",
              "      <td>0</td>\n",
              "      <td>0.0</td>\n",
              "      <td>1.0</td>\n",
              "      <td>0</td>\n",
              "      <td>1</td>\n",
              "      <td>0</td>\n",
              "      <td>332.0</td>\n",
              "      <td>124.0</td>\n",
              "      <td>88.0</td>\n",
              "      <td>31.31</td>\n",
              "      <td>65.0</td>\n",
              "      <td>84.0</td>\n",
              "      <td>0</td>\n",
              "    </tr>\n",
              "    <tr>\n",
              "      <th>14</th>\n",
              "      <td>Female</td>\n",
              "      <td>39</td>\n",
              "      <td>2.0</td>\n",
              "      <td>1</td>\n",
              "      <td>9.0</td>\n",
              "      <td>0.0</td>\n",
              "      <td>0</td>\n",
              "      <td>0</td>\n",
              "      <td>0</td>\n",
              "      <td>226.0</td>\n",
              "      <td>114.0</td>\n",
              "      <td>64.0</td>\n",
              "      <td>22.35</td>\n",
              "      <td>85.0</td>\n",
              "      <td>NaN</td>\n",
              "      <td>0</td>\n",
              "    </tr>\n",
              "    <tr>\n",
              "      <th>15</th>\n",
              "      <td>Female</td>\n",
              "      <td>38</td>\n",
              "      <td>2.0</td>\n",
              "      <td>1</td>\n",
              "      <td>20.0</td>\n",
              "      <td>0.0</td>\n",
              "      <td>0</td>\n",
              "      <td>1</td>\n",
              "      <td>0</td>\n",
              "      <td>221.0</td>\n",
              "      <td>140.0</td>\n",
              "      <td>90.0</td>\n",
              "      <td>21.35</td>\n",
              "      <td>95.0</td>\n",
              "      <td>70.0</td>\n",
              "      <td>1</td>\n",
              "    </tr>\n",
              "    <tr>\n",
              "      <th>16</th>\n",
              "      <td>Male</td>\n",
              "      <td>48</td>\n",
              "      <td>3.0</td>\n",
              "      <td>1</td>\n",
              "      <td>10.0</td>\n",
              "      <td>0.0</td>\n",
              "      <td>0</td>\n",
              "      <td>1</td>\n",
              "      <td>0</td>\n",
              "      <td>232.0</td>\n",
              "      <td>138.0</td>\n",
              "      <td>90.0</td>\n",
              "      <td>22.37</td>\n",
              "      <td>64.0</td>\n",
              "      <td>72.0</td>\n",
              "      <td>0</td>\n",
              "    </tr>\n",
              "    <tr>\n",
              "      <th>17</th>\n",
              "      <td>Female</td>\n",
              "      <td>46</td>\n",
              "      <td>2.0</td>\n",
              "      <td>1</td>\n",
              "      <td>20.0</td>\n",
              "      <td>0.0</td>\n",
              "      <td>0</td>\n",
              "      <td>0</td>\n",
              "      <td>0</td>\n",
              "      <td>291.0</td>\n",
              "      <td>112.0</td>\n",
              "      <td>78.0</td>\n",
              "      <td>23.38</td>\n",
              "      <td>80.0</td>\n",
              "      <td>89.0</td>\n",
              "      <td>1</td>\n",
              "    </tr>\n",
              "    <tr>\n",
              "      <th>18</th>\n",
              "      <td>Female</td>\n",
              "      <td>38</td>\n",
              "      <td>2.0</td>\n",
              "      <td>1</td>\n",
              "      <td>5.0</td>\n",
              "      <td>0.0</td>\n",
              "      <td>0</td>\n",
              "      <td>0</td>\n",
              "      <td>0</td>\n",
              "      <td>195.0</td>\n",
              "      <td>122.0</td>\n",
              "      <td>84.5</td>\n",
              "      <td>23.24</td>\n",
              "      <td>75.0</td>\n",
              "      <td>78.0</td>\n",
              "      <td>0</td>\n",
              "    </tr>\n",
              "    <tr>\n",
              "      <th>19</th>\n",
              "      <td>Male</td>\n",
              "      <td>41</td>\n",
              "      <td>2.0</td>\n",
              "      <td>0</td>\n",
              "      <td>0.0</td>\n",
              "      <td>0.0</td>\n",
              "      <td>0</td>\n",
              "      <td>0</td>\n",
              "      <td>0</td>\n",
              "      <td>195.0</td>\n",
              "      <td>139.0</td>\n",
              "      <td>88.0</td>\n",
              "      <td>26.88</td>\n",
              "      <td>85.0</td>\n",
              "      <td>65.0</td>\n",
              "      <td>0</td>\n",
              "    </tr>\n",
              "  </tbody>\n",
              "</table>\n",
              "</div>\n",
              "    <div class=\"colab-df-buttons\">\n",
              "\n",
              "  <div class=\"colab-df-container\">\n",
              "    <button class=\"colab-df-convert\" onclick=\"convertToInteractive('df-358afb6a-4505-4824-b52d-ad732b488fde')\"\n",
              "            title=\"Convert this dataframe to an interactive table.\"\n",
              "            style=\"display:none;\">\n",
              "\n",
              "  <svg xmlns=\"http://www.w3.org/2000/svg\" height=\"24px\" viewBox=\"0 -960 960 960\">\n",
              "    <path d=\"M120-120v-720h720v720H120Zm60-500h600v-160H180v160Zm220 220h160v-160H400v160Zm0 220h160v-160H400v160ZM180-400h160v-160H180v160Zm440 0h160v-160H620v160ZM180-180h160v-160H180v160Zm440 0h160v-160H620v160Z\"/>\n",
              "  </svg>\n",
              "    </button>\n",
              "\n",
              "  <style>\n",
              "    .colab-df-container {\n",
              "      display:flex;\n",
              "      gap: 12px;\n",
              "    }\n",
              "\n",
              "    .colab-df-convert {\n",
              "      background-color: #E8F0FE;\n",
              "      border: none;\n",
              "      border-radius: 50%;\n",
              "      cursor: pointer;\n",
              "      display: none;\n",
              "      fill: #1967D2;\n",
              "      height: 32px;\n",
              "      padding: 0 0 0 0;\n",
              "      width: 32px;\n",
              "    }\n",
              "\n",
              "    .colab-df-convert:hover {\n",
              "      background-color: #E2EBFA;\n",
              "      box-shadow: 0px 1px 2px rgba(60, 64, 67, 0.3), 0px 1px 3px 1px rgba(60, 64, 67, 0.15);\n",
              "      fill: #174EA6;\n",
              "    }\n",
              "\n",
              "    .colab-df-buttons div {\n",
              "      margin-bottom: 4px;\n",
              "    }\n",
              "\n",
              "    [theme=dark] .colab-df-convert {\n",
              "      background-color: #3B4455;\n",
              "      fill: #D2E3FC;\n",
              "    }\n",
              "\n",
              "    [theme=dark] .colab-df-convert:hover {\n",
              "      background-color: #434B5C;\n",
              "      box-shadow: 0px 1px 3px 1px rgba(0, 0, 0, 0.15);\n",
              "      filter: drop-shadow(0px 1px 2px rgba(0, 0, 0, 0.3));\n",
              "      fill: #FFFFFF;\n",
              "    }\n",
              "  </style>\n",
              "\n",
              "    <script>\n",
              "      const buttonEl =\n",
              "        document.querySelector('#df-358afb6a-4505-4824-b52d-ad732b488fde button.colab-df-convert');\n",
              "      buttonEl.style.display =\n",
              "        google.colab.kernel.accessAllowed ? 'block' : 'none';\n",
              "\n",
              "      async function convertToInteractive(key) {\n",
              "        const element = document.querySelector('#df-358afb6a-4505-4824-b52d-ad732b488fde');\n",
              "        const dataTable =\n",
              "          await google.colab.kernel.invokeFunction('convertToInteractive',\n",
              "                                                    [key], {});\n",
              "        if (!dataTable) return;\n",
              "\n",
              "        const docLinkHtml = 'Like what you see? Visit the ' +\n",
              "          '<a target=\"_blank\" href=https://colab.research.google.com/notebooks/data_table.ipynb>data table notebook</a>'\n",
              "          + ' to learn more about interactive tables.';\n",
              "        element.innerHTML = '';\n",
              "        dataTable['output_type'] = 'display_data';\n",
              "        await google.colab.output.renderOutput(dataTable, element);\n",
              "        const docLink = document.createElement('div');\n",
              "        docLink.innerHTML = docLinkHtml;\n",
              "        element.appendChild(docLink);\n",
              "      }\n",
              "    </script>\n",
              "  </div>\n",
              "\n",
              "\n",
              "    <div id=\"df-d786d3b2-addc-403e-a72f-9e68615282c4\">\n",
              "      <button class=\"colab-df-quickchart\" onclick=\"quickchart('df-d786d3b2-addc-403e-a72f-9e68615282c4')\"\n",
              "                title=\"Suggest charts\"\n",
              "                style=\"display:none;\">\n",
              "\n",
              "<svg xmlns=\"http://www.w3.org/2000/svg\" height=\"24px\"viewBox=\"0 0 24 24\"\n",
              "     width=\"24px\">\n",
              "    <g>\n",
              "        <path d=\"M19 3H5c-1.1 0-2 .9-2 2v14c0 1.1.9 2 2 2h14c1.1 0 2-.9 2-2V5c0-1.1-.9-2-2-2zM9 17H7v-7h2v7zm4 0h-2V7h2v10zm4 0h-2v-4h2v4z\"/>\n",
              "    </g>\n",
              "</svg>\n",
              "      </button>\n",
              "\n",
              "<style>\n",
              "  .colab-df-quickchart {\n",
              "      --bg-color: #E8F0FE;\n",
              "      --fill-color: #1967D2;\n",
              "      --hover-bg-color: #E2EBFA;\n",
              "      --hover-fill-color: #174EA6;\n",
              "      --disabled-fill-color: #AAA;\n",
              "      --disabled-bg-color: #DDD;\n",
              "  }\n",
              "\n",
              "  [theme=dark] .colab-df-quickchart {\n",
              "      --bg-color: #3B4455;\n",
              "      --fill-color: #D2E3FC;\n",
              "      --hover-bg-color: #434B5C;\n",
              "      --hover-fill-color: #FFFFFF;\n",
              "      --disabled-bg-color: #3B4455;\n",
              "      --disabled-fill-color: #666;\n",
              "  }\n",
              "\n",
              "  .colab-df-quickchart {\n",
              "    background-color: var(--bg-color);\n",
              "    border: none;\n",
              "    border-radius: 50%;\n",
              "    cursor: pointer;\n",
              "    display: none;\n",
              "    fill: var(--fill-color);\n",
              "    height: 32px;\n",
              "    padding: 0;\n",
              "    width: 32px;\n",
              "  }\n",
              "\n",
              "  .colab-df-quickchart:hover {\n",
              "    background-color: var(--hover-bg-color);\n",
              "    box-shadow: 0 1px 2px rgba(60, 64, 67, 0.3), 0 1px 3px 1px rgba(60, 64, 67, 0.15);\n",
              "    fill: var(--button-hover-fill-color);\n",
              "  }\n",
              "\n",
              "  .colab-df-quickchart-complete:disabled,\n",
              "  .colab-df-quickchart-complete:disabled:hover {\n",
              "    background-color: var(--disabled-bg-color);\n",
              "    fill: var(--disabled-fill-color);\n",
              "    box-shadow: none;\n",
              "  }\n",
              "\n",
              "  .colab-df-spinner {\n",
              "    border: 2px solid var(--fill-color);\n",
              "    border-color: transparent;\n",
              "    border-bottom-color: var(--fill-color);\n",
              "    animation:\n",
              "      spin 1s steps(1) infinite;\n",
              "  }\n",
              "\n",
              "  @keyframes spin {\n",
              "    0% {\n",
              "      border-color: transparent;\n",
              "      border-bottom-color: var(--fill-color);\n",
              "      border-left-color: var(--fill-color);\n",
              "    }\n",
              "    20% {\n",
              "      border-color: transparent;\n",
              "      border-left-color: var(--fill-color);\n",
              "      border-top-color: var(--fill-color);\n",
              "    }\n",
              "    30% {\n",
              "      border-color: transparent;\n",
              "      border-left-color: var(--fill-color);\n",
              "      border-top-color: var(--fill-color);\n",
              "      border-right-color: var(--fill-color);\n",
              "    }\n",
              "    40% {\n",
              "      border-color: transparent;\n",
              "      border-right-color: var(--fill-color);\n",
              "      border-top-color: var(--fill-color);\n",
              "    }\n",
              "    60% {\n",
              "      border-color: transparent;\n",
              "      border-right-color: var(--fill-color);\n",
              "    }\n",
              "    80% {\n",
              "      border-color: transparent;\n",
              "      border-right-color: var(--fill-color);\n",
              "      border-bottom-color: var(--fill-color);\n",
              "    }\n",
              "    90% {\n",
              "      border-color: transparent;\n",
              "      border-bottom-color: var(--fill-color);\n",
              "    }\n",
              "  }\n",
              "</style>\n",
              "\n",
              "      <script>\n",
              "        async function quickchart(key) {\n",
              "          const quickchartButtonEl =\n",
              "            document.querySelector('#' + key + ' button');\n",
              "          quickchartButtonEl.disabled = true;  // To prevent multiple clicks.\n",
              "          quickchartButtonEl.classList.add('colab-df-spinner');\n",
              "          try {\n",
              "            const charts = await google.colab.kernel.invokeFunction(\n",
              "                'suggestCharts', [key], {});\n",
              "          } catch (error) {\n",
              "            console.error('Error during call to suggestCharts:', error);\n",
              "          }\n",
              "          quickchartButtonEl.classList.remove('colab-df-spinner');\n",
              "          quickchartButtonEl.classList.add('colab-df-quickchart-complete');\n",
              "        }\n",
              "        (() => {\n",
              "          let quickchartButtonEl =\n",
              "            document.querySelector('#df-d786d3b2-addc-403e-a72f-9e68615282c4 button');\n",
              "          quickchartButtonEl.style.display =\n",
              "            google.colab.kernel.accessAllowed ? 'block' : 'none';\n",
              "        })();\n",
              "      </script>\n",
              "    </div>\n",
              "\n",
              "    </div>\n",
              "  </div>\n"
            ],
            "application/vnd.google.colaboratory.intrinsic+json": {
              "type": "dataframe",
              "variable_name": "df",
              "summary": "{\n  \"name\": \"df\",\n  \"rows\": 4240,\n  \"fields\": [\n    {\n      \"column\": \"gender\",\n      \"properties\": {\n        \"dtype\": \"category\",\n        \"num_unique_values\": 2,\n        \"samples\": [\n          \"Female\",\n          \"Male\"\n        ],\n        \"semantic_type\": \"\",\n        \"description\": \"\"\n      }\n    },\n    {\n      \"column\": \"age\",\n      \"properties\": {\n        \"dtype\": \"number\",\n        \"std\": 8,\n        \"min\": 32,\n        \"max\": 70,\n        \"num_unique_values\": 39,\n        \"samples\": [\n          34,\n          70\n        ],\n        \"semantic_type\": \"\",\n        \"description\": \"\"\n      }\n    },\n    {\n      \"column\": \"education\",\n      \"properties\": {\n        \"dtype\": \"number\",\n        \"std\": 1.0197911793650334,\n        \"min\": 1.0,\n        \"max\": 4.0,\n        \"num_unique_values\": 4,\n        \"samples\": [\n          2.0,\n          3.0\n        ],\n        \"semantic_type\": \"\",\n        \"description\": \"\"\n      }\n    },\n    {\n      \"column\": \"currentSmoker\",\n      \"properties\": {\n        \"dtype\": \"number\",\n        \"std\": 0,\n        \"min\": 0,\n        \"max\": 1,\n        \"num_unique_values\": 2,\n        \"samples\": [\n          1,\n          0\n        ],\n        \"semantic_type\": \"\",\n        \"description\": \"\"\n      }\n    },\n    {\n      \"column\": \"cigsPerDay\",\n      \"properties\": {\n        \"dtype\": \"number\",\n        \"std\": 11.922461800608747,\n        \"min\": 0.0,\n        \"max\": 70.0,\n        \"num_unique_values\": 33,\n        \"samples\": [\n          19.0,\n          4.0\n        ],\n        \"semantic_type\": \"\",\n        \"description\": \"\"\n      }\n    },\n    {\n      \"column\": \"BPMeds\",\n      \"properties\": {\n        \"dtype\": \"number\",\n        \"std\": 0.16954428739625657,\n        \"min\": 0.0,\n        \"max\": 1.0,\n        \"num_unique_values\": 2,\n        \"samples\": [\n          1.0,\n          0.0\n        ],\n        \"semantic_type\": \"\",\n        \"description\": \"\"\n      }\n    },\n    {\n      \"column\": \"prevalentStroke\",\n      \"properties\": {\n        \"dtype\": \"number\",\n        \"std\": 0,\n        \"min\": 0,\n        \"max\": 1,\n        \"num_unique_values\": 2,\n        \"samples\": [\n          1,\n          0\n        ],\n        \"semantic_type\": \"\",\n        \"description\": \"\"\n      }\n    },\n    {\n      \"column\": \"prevalentHyp\",\n      \"properties\": {\n        \"dtype\": \"number\",\n        \"std\": 0,\n        \"min\": 0,\n        \"max\": 1,\n        \"num_unique_values\": 2,\n        \"samples\": [\n          1,\n          0\n        ],\n        \"semantic_type\": \"\",\n        \"description\": \"\"\n      }\n    },\n    {\n      \"column\": \"diabetes\",\n      \"properties\": {\n        \"dtype\": \"number\",\n        \"std\": 0,\n        \"min\": 0,\n        \"max\": 1,\n        \"num_unique_values\": 2,\n        \"samples\": [\n          1,\n          0\n        ],\n        \"semantic_type\": \"\",\n        \"description\": \"\"\n      }\n    },\n    {\n      \"column\": \"totChol\",\n      \"properties\": {\n        \"dtype\": \"number\",\n        \"std\": 44.59128386860702,\n        \"min\": 107.0,\n        \"max\": 696.0,\n        \"num_unique_values\": 248,\n        \"samples\": [\n          311.0,\n          205.0\n        ],\n        \"semantic_type\": \"\",\n        \"description\": \"\"\n      }\n    },\n    {\n      \"column\": \"sysBP\",\n      \"properties\": {\n        \"dtype\": \"number\",\n        \"std\": 22.0332996088492,\n        \"min\": 83.5,\n        \"max\": 295.0,\n        \"num_unique_values\": 234,\n        \"samples\": [\n          109.0,\n          184.5\n        ],\n        \"semantic_type\": \"\",\n        \"description\": \"\"\n      }\n    },\n    {\n      \"column\": \"diaBP\",\n      \"properties\": {\n        \"dtype\": \"number\",\n        \"std\": 11.910394483305936,\n        \"min\": 48.0,\n        \"max\": 142.5,\n        \"num_unique_values\": 146,\n        \"samples\": [\n          106.0,\n          108.5\n        ],\n        \"semantic_type\": \"\",\n        \"description\": \"\"\n      }\n    },\n    {\n      \"column\": \"BMI\",\n      \"properties\": {\n        \"dtype\": \"number\",\n        \"std\": 4.079840168944382,\n        \"min\": 15.54,\n        \"max\": 56.8,\n        \"num_unique_values\": 1364,\n        \"samples\": [\n          24.56,\n          19.87\n        ],\n        \"semantic_type\": \"\",\n        \"description\": \"\"\n      }\n    },\n    {\n      \"column\": \"heartRate\",\n      \"properties\": {\n        \"dtype\": \"number\",\n        \"std\": 12.025347984469342,\n        \"min\": 44.0,\n        \"max\": 143.0,\n        \"num_unique_values\": 73,\n        \"samples\": [\n          85.0,\n          47.0\n        ],\n        \"semantic_type\": \"\",\n        \"description\": \"\"\n      }\n    },\n    {\n      \"column\": \"glucose\",\n      \"properties\": {\n        \"dtype\": \"number\",\n        \"std\": 23.95433481134474,\n        \"min\": 40.0,\n        \"max\": 394.0,\n        \"num_unique_values\": 143,\n        \"samples\": [\n          394.0,\n          74.0\n        ],\n        \"semantic_type\": \"\",\n        \"description\": \"\"\n      }\n    },\n    {\n      \"column\": \"Heart Disease (in next 10 years)\",\n      \"properties\": {\n        \"dtype\": \"number\",\n        \"std\": 0,\n        \"min\": 0,\n        \"max\": 1,\n        \"num_unique_values\": 2,\n        \"samples\": [\n          1,\n          0\n        ],\n        \"semantic_type\": \"\",\n        \"description\": \"\"\n      }\n    }\n  ]\n}"
            }
          },
          "metadata": {},
          "execution_count": 173
        }
      ]
    },
    {
      "cell_type": "code",
      "source": [
        "# Counting the number of rows and columns\n",
        "print('Number of Rows and Columns:')\n",
        "df.shape"
      ],
      "metadata": {
        "colab": {
          "base_uri": "https://localhost:8080/"
        },
        "id": "9eQXXFts4rL2",
        "outputId": "05d02212-b180-4860-8054-90d5e3ebb91b"
      },
      "execution_count": null,
      "outputs": [
        {
          "output_type": "stream",
          "name": "stdout",
          "text": [
            "Number of Rows and Columns:\n"
          ]
        },
        {
          "output_type": "execute_result",
          "data": {
            "text/plain": [
              "(4240, 16)"
            ]
          },
          "metadata": {},
          "execution_count": 174
        }
      ]
    },
    {
      "cell_type": "code",
      "source": [
        "# Checking informations of the dataset\n",
        "df.info()"
      ],
      "metadata": {
        "colab": {
          "base_uri": "https://localhost:8080/"
        },
        "id": "0DP2wsjk4uAO",
        "outputId": "dcd355dd-d91d-4d1b-ab58-2056484d4975"
      },
      "execution_count": null,
      "outputs": [
        {
          "output_type": "stream",
          "name": "stdout",
          "text": [
            "<class 'pandas.core.frame.DataFrame'>\n",
            "RangeIndex: 4240 entries, 0 to 4239\n",
            "Data columns (total 16 columns):\n",
            " #   Column                            Non-Null Count  Dtype  \n",
            "---  ------                            --------------  -----  \n",
            " 0   gender                            4240 non-null   object \n",
            " 1   age                               4240 non-null   int64  \n",
            " 2   education                         4135 non-null   float64\n",
            " 3   currentSmoker                     4240 non-null   int64  \n",
            " 4   cigsPerDay                        4211 non-null   float64\n",
            " 5   BPMeds                            4187 non-null   float64\n",
            " 6   prevalentStroke                   4240 non-null   int64  \n",
            " 7   prevalentHyp                      4240 non-null   int64  \n",
            " 8   diabetes                          4240 non-null   int64  \n",
            " 9   totChol                           4190 non-null   float64\n",
            " 10  sysBP                             4240 non-null   float64\n",
            " 11  diaBP                             4240 non-null   float64\n",
            " 12  BMI                               4221 non-null   float64\n",
            " 13  heartRate                         4239 non-null   float64\n",
            " 14  glucose                           3852 non-null   float64\n",
            " 15  Heart Disease (in next 10 years)  4240 non-null   int64  \n",
            "dtypes: float64(9), int64(6), object(1)\n",
            "memory usage: 530.1+ KB\n"
          ]
        }
      ]
    },
    {
      "cell_type": "code",
      "source": [
        "# Checking for the non-numeric columns\n",
        "cols = list(df.columns)\n",
        "to_one_hot = []\n",
        "\n",
        "for i in cols:\n",
        "    if type(df[i].iloc[0]) == str:\n",
        "        to_one_hot.append(i)\n",
        "\n",
        "print('Colums with Catagorical values --->', to_one_hot)"
      ],
      "metadata": {
        "colab": {
          "base_uri": "https://localhost:8080/"
        },
        "id": "R8Dd7VB04zvu",
        "outputId": "c03c069d-d9f3-46b5-a658-16e2d3042cfa"
      },
      "execution_count": null,
      "outputs": [
        {
          "output_type": "stream",
          "name": "stdout",
          "text": [
            "Colums with Catagorical values ---> ['gender']\n"
          ]
        }
      ]
    },
    {
      "cell_type": "code",
      "source": [
        "# Checking the unique values of this a particular column\n",
        "df['gender'].unique()"
      ],
      "metadata": {
        "colab": {
          "base_uri": "https://localhost:8080/"
        },
        "id": "cghiC8XC46IG",
        "outputId": "e89f86bf-525a-4ea7-e83c-07be9f47d1d1"
      },
      "execution_count": null,
      "outputs": [
        {
          "output_type": "execute_result",
          "data": {
            "text/plain": [
              "array(['Male', 'Female'], dtype=object)"
            ]
          },
          "metadata": {},
          "execution_count": 177
        }
      ]
    },
    {
      "cell_type": "code",
      "source": [
        "# Converting non-numeric columns to numeric using one-hot encoding\n",
        "to_one_hot = df.select_dtypes(include = ['object']).columns\n",
        "df = pd.get_dummies(df, columns = to_one_hot, dtype=int)"
      ],
      "metadata": {
        "id": "exZwoAN849b-"
      },
      "execution_count": null,
      "outputs": []
    },
    {
      "cell_type": "code",
      "source": [
        "# Again checking for the non-numeric columns\n",
        "cols = list(df.columns)\n",
        "to_one_hot = []\n",
        "\n",
        "for i in cols:\n",
        "    if type(df[i].iloc[0]) == str:\n",
        "        to_one_hot.append(i)\n",
        "\n",
        "print('Colums with Catagorical values --->', to_one_hot)"
      ],
      "metadata": {
        "colab": {
          "base_uri": "https://localhost:8080/"
        },
        "id": "R9db2tIg5CK2",
        "outputId": "61ade0c1-b64e-47b0-f6d7-5afb8eab2673"
      },
      "execution_count": null,
      "outputs": [
        {
          "output_type": "stream",
          "name": "stdout",
          "text": [
            "Colums with Catagorical values ---> []\n"
          ]
        }
      ]
    },
    {
      "cell_type": "code",
      "source": [
        "# Checking description of the dataset\n",
        "df.describe()"
      ],
      "metadata": {
        "colab": {
          "base_uri": "https://localhost:8080/",
          "height": 300
        },
        "id": "USxDpaQr5F9O",
        "outputId": "8fd6a0d6-d368-4c57-8535-de768e18b98e"
      },
      "execution_count": null,
      "outputs": [
        {
          "output_type": "execute_result",
          "data": {
            "text/plain": [
              "               age    education  currentSmoker   cigsPerDay       BPMeds  \\\n",
              "count  4240.000000  4135.000000    4240.000000  4211.000000  4187.000000   \n",
              "mean     49.580189     1.979444       0.494104     9.005937     0.029615   \n",
              "std       8.572942     1.019791       0.500024    11.922462     0.169544   \n",
              "min      32.000000     1.000000       0.000000     0.000000     0.000000   \n",
              "25%      42.000000     1.000000       0.000000     0.000000     0.000000   \n",
              "50%      49.000000     2.000000       0.000000     0.000000     0.000000   \n",
              "75%      56.000000     3.000000       1.000000    20.000000     0.000000   \n",
              "max      70.000000     4.000000       1.000000    70.000000     1.000000   \n",
              "\n",
              "       prevalentStroke  prevalentHyp     diabetes      totChol        sysBP  \\\n",
              "count      4240.000000   4240.000000  4240.000000  4190.000000  4240.000000   \n",
              "mean          0.005896      0.310613     0.025708   236.699523   132.354599   \n",
              "std           0.076569      0.462799     0.158280    44.591284    22.033300   \n",
              "min           0.000000      0.000000     0.000000   107.000000    83.500000   \n",
              "25%           0.000000      0.000000     0.000000   206.000000   117.000000   \n",
              "50%           0.000000      0.000000     0.000000   234.000000   128.000000   \n",
              "75%           0.000000      1.000000     0.000000   263.000000   144.000000   \n",
              "max           1.000000      1.000000     1.000000   696.000000   295.000000   \n",
              "\n",
              "             diaBP          BMI    heartRate      glucose  \\\n",
              "count  4240.000000  4221.000000  4239.000000  3852.000000   \n",
              "mean     82.897759    25.800801    75.878981    81.963655   \n",
              "std      11.910394     4.079840    12.025348    23.954335   \n",
              "min      48.000000    15.540000    44.000000    40.000000   \n",
              "25%      75.000000    23.070000    68.000000    71.000000   \n",
              "50%      82.000000    25.400000    75.000000    78.000000   \n",
              "75%      90.000000    28.040000    83.000000    87.000000   \n",
              "max     142.500000    56.800000   143.000000   394.000000   \n",
              "\n",
              "       Heart Disease (in next 10 years)  gender_Female  gender_Male  \n",
              "count                       4240.000000    4240.000000  4240.000000  \n",
              "mean                           0.151887       0.570755     0.429245  \n",
              "std                            0.358953       0.495027     0.495027  \n",
              "min                            0.000000       0.000000     0.000000  \n",
              "25%                            0.000000       0.000000     0.000000  \n",
              "50%                            0.000000       1.000000     0.000000  \n",
              "75%                            0.000000       1.000000     1.000000  \n",
              "max                            1.000000       1.000000     1.000000  "
            ],
            "text/html": [
              "\n",
              "  <div id=\"df-9e44ca75-3209-4671-b384-915d8f8548cc\" class=\"colab-df-container\">\n",
              "    <div>\n",
              "<style scoped>\n",
              "    .dataframe tbody tr th:only-of-type {\n",
              "        vertical-align: middle;\n",
              "    }\n",
              "\n",
              "    .dataframe tbody tr th {\n",
              "        vertical-align: top;\n",
              "    }\n",
              "\n",
              "    .dataframe thead th {\n",
              "        text-align: right;\n",
              "    }\n",
              "</style>\n",
              "<table border=\"1\" class=\"dataframe\">\n",
              "  <thead>\n",
              "    <tr style=\"text-align: right;\">\n",
              "      <th></th>\n",
              "      <th>age</th>\n",
              "      <th>education</th>\n",
              "      <th>currentSmoker</th>\n",
              "      <th>cigsPerDay</th>\n",
              "      <th>BPMeds</th>\n",
              "      <th>prevalentStroke</th>\n",
              "      <th>prevalentHyp</th>\n",
              "      <th>diabetes</th>\n",
              "      <th>totChol</th>\n",
              "      <th>sysBP</th>\n",
              "      <th>diaBP</th>\n",
              "      <th>BMI</th>\n",
              "      <th>heartRate</th>\n",
              "      <th>glucose</th>\n",
              "      <th>Heart Disease (in next 10 years)</th>\n",
              "      <th>gender_Female</th>\n",
              "      <th>gender_Male</th>\n",
              "    </tr>\n",
              "  </thead>\n",
              "  <tbody>\n",
              "    <tr>\n",
              "      <th>count</th>\n",
              "      <td>4240.000000</td>\n",
              "      <td>4135.000000</td>\n",
              "      <td>4240.000000</td>\n",
              "      <td>4211.000000</td>\n",
              "      <td>4187.000000</td>\n",
              "      <td>4240.000000</td>\n",
              "      <td>4240.000000</td>\n",
              "      <td>4240.000000</td>\n",
              "      <td>4190.000000</td>\n",
              "      <td>4240.000000</td>\n",
              "      <td>4240.000000</td>\n",
              "      <td>4221.000000</td>\n",
              "      <td>4239.000000</td>\n",
              "      <td>3852.000000</td>\n",
              "      <td>4240.000000</td>\n",
              "      <td>4240.000000</td>\n",
              "      <td>4240.000000</td>\n",
              "    </tr>\n",
              "    <tr>\n",
              "      <th>mean</th>\n",
              "      <td>49.580189</td>\n",
              "      <td>1.979444</td>\n",
              "      <td>0.494104</td>\n",
              "      <td>9.005937</td>\n",
              "      <td>0.029615</td>\n",
              "      <td>0.005896</td>\n",
              "      <td>0.310613</td>\n",
              "      <td>0.025708</td>\n",
              "      <td>236.699523</td>\n",
              "      <td>132.354599</td>\n",
              "      <td>82.897759</td>\n",
              "      <td>25.800801</td>\n",
              "      <td>75.878981</td>\n",
              "      <td>81.963655</td>\n",
              "      <td>0.151887</td>\n",
              "      <td>0.570755</td>\n",
              "      <td>0.429245</td>\n",
              "    </tr>\n",
              "    <tr>\n",
              "      <th>std</th>\n",
              "      <td>8.572942</td>\n",
              "      <td>1.019791</td>\n",
              "      <td>0.500024</td>\n",
              "      <td>11.922462</td>\n",
              "      <td>0.169544</td>\n",
              "      <td>0.076569</td>\n",
              "      <td>0.462799</td>\n",
              "      <td>0.158280</td>\n",
              "      <td>44.591284</td>\n",
              "      <td>22.033300</td>\n",
              "      <td>11.910394</td>\n",
              "      <td>4.079840</td>\n",
              "      <td>12.025348</td>\n",
              "      <td>23.954335</td>\n",
              "      <td>0.358953</td>\n",
              "      <td>0.495027</td>\n",
              "      <td>0.495027</td>\n",
              "    </tr>\n",
              "    <tr>\n",
              "      <th>min</th>\n",
              "      <td>32.000000</td>\n",
              "      <td>1.000000</td>\n",
              "      <td>0.000000</td>\n",
              "      <td>0.000000</td>\n",
              "      <td>0.000000</td>\n",
              "      <td>0.000000</td>\n",
              "      <td>0.000000</td>\n",
              "      <td>0.000000</td>\n",
              "      <td>107.000000</td>\n",
              "      <td>83.500000</td>\n",
              "      <td>48.000000</td>\n",
              "      <td>15.540000</td>\n",
              "      <td>44.000000</td>\n",
              "      <td>40.000000</td>\n",
              "      <td>0.000000</td>\n",
              "      <td>0.000000</td>\n",
              "      <td>0.000000</td>\n",
              "    </tr>\n",
              "    <tr>\n",
              "      <th>25%</th>\n",
              "      <td>42.000000</td>\n",
              "      <td>1.000000</td>\n",
              "      <td>0.000000</td>\n",
              "      <td>0.000000</td>\n",
              "      <td>0.000000</td>\n",
              "      <td>0.000000</td>\n",
              "      <td>0.000000</td>\n",
              "      <td>0.000000</td>\n",
              "      <td>206.000000</td>\n",
              "      <td>117.000000</td>\n",
              "      <td>75.000000</td>\n",
              "      <td>23.070000</td>\n",
              "      <td>68.000000</td>\n",
              "      <td>71.000000</td>\n",
              "      <td>0.000000</td>\n",
              "      <td>0.000000</td>\n",
              "      <td>0.000000</td>\n",
              "    </tr>\n",
              "    <tr>\n",
              "      <th>50%</th>\n",
              "      <td>49.000000</td>\n",
              "      <td>2.000000</td>\n",
              "      <td>0.000000</td>\n",
              "      <td>0.000000</td>\n",
              "      <td>0.000000</td>\n",
              "      <td>0.000000</td>\n",
              "      <td>0.000000</td>\n",
              "      <td>0.000000</td>\n",
              "      <td>234.000000</td>\n",
              "      <td>128.000000</td>\n",
              "      <td>82.000000</td>\n",
              "      <td>25.400000</td>\n",
              "      <td>75.000000</td>\n",
              "      <td>78.000000</td>\n",
              "      <td>0.000000</td>\n",
              "      <td>1.000000</td>\n",
              "      <td>0.000000</td>\n",
              "    </tr>\n",
              "    <tr>\n",
              "      <th>75%</th>\n",
              "      <td>56.000000</td>\n",
              "      <td>3.000000</td>\n",
              "      <td>1.000000</td>\n",
              "      <td>20.000000</td>\n",
              "      <td>0.000000</td>\n",
              "      <td>0.000000</td>\n",
              "      <td>1.000000</td>\n",
              "      <td>0.000000</td>\n",
              "      <td>263.000000</td>\n",
              "      <td>144.000000</td>\n",
              "      <td>90.000000</td>\n",
              "      <td>28.040000</td>\n",
              "      <td>83.000000</td>\n",
              "      <td>87.000000</td>\n",
              "      <td>0.000000</td>\n",
              "      <td>1.000000</td>\n",
              "      <td>1.000000</td>\n",
              "    </tr>\n",
              "    <tr>\n",
              "      <th>max</th>\n",
              "      <td>70.000000</td>\n",
              "      <td>4.000000</td>\n",
              "      <td>1.000000</td>\n",
              "      <td>70.000000</td>\n",
              "      <td>1.000000</td>\n",
              "      <td>1.000000</td>\n",
              "      <td>1.000000</td>\n",
              "      <td>1.000000</td>\n",
              "      <td>696.000000</td>\n",
              "      <td>295.000000</td>\n",
              "      <td>142.500000</td>\n",
              "      <td>56.800000</td>\n",
              "      <td>143.000000</td>\n",
              "      <td>394.000000</td>\n",
              "      <td>1.000000</td>\n",
              "      <td>1.000000</td>\n",
              "      <td>1.000000</td>\n",
              "    </tr>\n",
              "  </tbody>\n",
              "</table>\n",
              "</div>\n",
              "    <div class=\"colab-df-buttons\">\n",
              "\n",
              "  <div class=\"colab-df-container\">\n",
              "    <button class=\"colab-df-convert\" onclick=\"convertToInteractive('df-9e44ca75-3209-4671-b384-915d8f8548cc')\"\n",
              "            title=\"Convert this dataframe to an interactive table.\"\n",
              "            style=\"display:none;\">\n",
              "\n",
              "  <svg xmlns=\"http://www.w3.org/2000/svg\" height=\"24px\" viewBox=\"0 -960 960 960\">\n",
              "    <path d=\"M120-120v-720h720v720H120Zm60-500h600v-160H180v160Zm220 220h160v-160H400v160Zm0 220h160v-160H400v160ZM180-400h160v-160H180v160Zm440 0h160v-160H620v160ZM180-180h160v-160H180v160Zm440 0h160v-160H620v160Z\"/>\n",
              "  </svg>\n",
              "    </button>\n",
              "\n",
              "  <style>\n",
              "    .colab-df-container {\n",
              "      display:flex;\n",
              "      gap: 12px;\n",
              "    }\n",
              "\n",
              "    .colab-df-convert {\n",
              "      background-color: #E8F0FE;\n",
              "      border: none;\n",
              "      border-radius: 50%;\n",
              "      cursor: pointer;\n",
              "      display: none;\n",
              "      fill: #1967D2;\n",
              "      height: 32px;\n",
              "      padding: 0 0 0 0;\n",
              "      width: 32px;\n",
              "    }\n",
              "\n",
              "    .colab-df-convert:hover {\n",
              "      background-color: #E2EBFA;\n",
              "      box-shadow: 0px 1px 2px rgba(60, 64, 67, 0.3), 0px 1px 3px 1px rgba(60, 64, 67, 0.15);\n",
              "      fill: #174EA6;\n",
              "    }\n",
              "\n",
              "    .colab-df-buttons div {\n",
              "      margin-bottom: 4px;\n",
              "    }\n",
              "\n",
              "    [theme=dark] .colab-df-convert {\n",
              "      background-color: #3B4455;\n",
              "      fill: #D2E3FC;\n",
              "    }\n",
              "\n",
              "    [theme=dark] .colab-df-convert:hover {\n",
              "      background-color: #434B5C;\n",
              "      box-shadow: 0px 1px 3px 1px rgba(0, 0, 0, 0.15);\n",
              "      filter: drop-shadow(0px 1px 2px rgba(0, 0, 0, 0.3));\n",
              "      fill: #FFFFFF;\n",
              "    }\n",
              "  </style>\n",
              "\n",
              "    <script>\n",
              "      const buttonEl =\n",
              "        document.querySelector('#df-9e44ca75-3209-4671-b384-915d8f8548cc button.colab-df-convert');\n",
              "      buttonEl.style.display =\n",
              "        google.colab.kernel.accessAllowed ? 'block' : 'none';\n",
              "\n",
              "      async function convertToInteractive(key) {\n",
              "        const element = document.querySelector('#df-9e44ca75-3209-4671-b384-915d8f8548cc');\n",
              "        const dataTable =\n",
              "          await google.colab.kernel.invokeFunction('convertToInteractive',\n",
              "                                                    [key], {});\n",
              "        if (!dataTable) return;\n",
              "\n",
              "        const docLinkHtml = 'Like what you see? Visit the ' +\n",
              "          '<a target=\"_blank\" href=https://colab.research.google.com/notebooks/data_table.ipynb>data table notebook</a>'\n",
              "          + ' to learn more about interactive tables.';\n",
              "        element.innerHTML = '';\n",
              "        dataTable['output_type'] = 'display_data';\n",
              "        await google.colab.output.renderOutput(dataTable, element);\n",
              "        const docLink = document.createElement('div');\n",
              "        docLink.innerHTML = docLinkHtml;\n",
              "        element.appendChild(docLink);\n",
              "      }\n",
              "    </script>\n",
              "  </div>\n",
              "\n",
              "\n",
              "    <div id=\"df-223b3520-e9ad-4425-a6bc-42e1a8dc9103\">\n",
              "      <button class=\"colab-df-quickchart\" onclick=\"quickchart('df-223b3520-e9ad-4425-a6bc-42e1a8dc9103')\"\n",
              "                title=\"Suggest charts\"\n",
              "                style=\"display:none;\">\n",
              "\n",
              "<svg xmlns=\"http://www.w3.org/2000/svg\" height=\"24px\"viewBox=\"0 0 24 24\"\n",
              "     width=\"24px\">\n",
              "    <g>\n",
              "        <path d=\"M19 3H5c-1.1 0-2 .9-2 2v14c0 1.1.9 2 2 2h14c1.1 0 2-.9 2-2V5c0-1.1-.9-2-2-2zM9 17H7v-7h2v7zm4 0h-2V7h2v10zm4 0h-2v-4h2v4z\"/>\n",
              "    </g>\n",
              "</svg>\n",
              "      </button>\n",
              "\n",
              "<style>\n",
              "  .colab-df-quickchart {\n",
              "      --bg-color: #E8F0FE;\n",
              "      --fill-color: #1967D2;\n",
              "      --hover-bg-color: #E2EBFA;\n",
              "      --hover-fill-color: #174EA6;\n",
              "      --disabled-fill-color: #AAA;\n",
              "      --disabled-bg-color: #DDD;\n",
              "  }\n",
              "\n",
              "  [theme=dark] .colab-df-quickchart {\n",
              "      --bg-color: #3B4455;\n",
              "      --fill-color: #D2E3FC;\n",
              "      --hover-bg-color: #434B5C;\n",
              "      --hover-fill-color: #FFFFFF;\n",
              "      --disabled-bg-color: #3B4455;\n",
              "      --disabled-fill-color: #666;\n",
              "  }\n",
              "\n",
              "  .colab-df-quickchart {\n",
              "    background-color: var(--bg-color);\n",
              "    border: none;\n",
              "    border-radius: 50%;\n",
              "    cursor: pointer;\n",
              "    display: none;\n",
              "    fill: var(--fill-color);\n",
              "    height: 32px;\n",
              "    padding: 0;\n",
              "    width: 32px;\n",
              "  }\n",
              "\n",
              "  .colab-df-quickchart:hover {\n",
              "    background-color: var(--hover-bg-color);\n",
              "    box-shadow: 0 1px 2px rgba(60, 64, 67, 0.3), 0 1px 3px 1px rgba(60, 64, 67, 0.15);\n",
              "    fill: var(--button-hover-fill-color);\n",
              "  }\n",
              "\n",
              "  .colab-df-quickchart-complete:disabled,\n",
              "  .colab-df-quickchart-complete:disabled:hover {\n",
              "    background-color: var(--disabled-bg-color);\n",
              "    fill: var(--disabled-fill-color);\n",
              "    box-shadow: none;\n",
              "  }\n",
              "\n",
              "  .colab-df-spinner {\n",
              "    border: 2px solid var(--fill-color);\n",
              "    border-color: transparent;\n",
              "    border-bottom-color: var(--fill-color);\n",
              "    animation:\n",
              "      spin 1s steps(1) infinite;\n",
              "  }\n",
              "\n",
              "  @keyframes spin {\n",
              "    0% {\n",
              "      border-color: transparent;\n",
              "      border-bottom-color: var(--fill-color);\n",
              "      border-left-color: var(--fill-color);\n",
              "    }\n",
              "    20% {\n",
              "      border-color: transparent;\n",
              "      border-left-color: var(--fill-color);\n",
              "      border-top-color: var(--fill-color);\n",
              "    }\n",
              "    30% {\n",
              "      border-color: transparent;\n",
              "      border-left-color: var(--fill-color);\n",
              "      border-top-color: var(--fill-color);\n",
              "      border-right-color: var(--fill-color);\n",
              "    }\n",
              "    40% {\n",
              "      border-color: transparent;\n",
              "      border-right-color: var(--fill-color);\n",
              "      border-top-color: var(--fill-color);\n",
              "    }\n",
              "    60% {\n",
              "      border-color: transparent;\n",
              "      border-right-color: var(--fill-color);\n",
              "    }\n",
              "    80% {\n",
              "      border-color: transparent;\n",
              "      border-right-color: var(--fill-color);\n",
              "      border-bottom-color: var(--fill-color);\n",
              "    }\n",
              "    90% {\n",
              "      border-color: transparent;\n",
              "      border-bottom-color: var(--fill-color);\n",
              "    }\n",
              "  }\n",
              "</style>\n",
              "\n",
              "      <script>\n",
              "        async function quickchart(key) {\n",
              "          const quickchartButtonEl =\n",
              "            document.querySelector('#' + key + ' button');\n",
              "          quickchartButtonEl.disabled = true;  // To prevent multiple clicks.\n",
              "          quickchartButtonEl.classList.add('colab-df-spinner');\n",
              "          try {\n",
              "            const charts = await google.colab.kernel.invokeFunction(\n",
              "                'suggestCharts', [key], {});\n",
              "          } catch (error) {\n",
              "            console.error('Error during call to suggestCharts:', error);\n",
              "          }\n",
              "          quickchartButtonEl.classList.remove('colab-df-spinner');\n",
              "          quickchartButtonEl.classList.add('colab-df-quickchart-complete');\n",
              "        }\n",
              "        (() => {\n",
              "          let quickchartButtonEl =\n",
              "            document.querySelector('#df-223b3520-e9ad-4425-a6bc-42e1a8dc9103 button');\n",
              "          quickchartButtonEl.style.display =\n",
              "            google.colab.kernel.accessAllowed ? 'block' : 'none';\n",
              "        })();\n",
              "      </script>\n",
              "    </div>\n",
              "\n",
              "    </div>\n",
              "  </div>\n"
            ],
            "application/vnd.google.colaboratory.intrinsic+json": {
              "type": "dataframe",
              "summary": "{\n  \"name\": \"df\",\n  \"rows\": 8,\n  \"fields\": [\n    {\n      \"column\": \"age\",\n      \"properties\": {\n        \"dtype\": \"number\",\n        \"std\": 1483.6625285814434,\n        \"min\": 8.57294217547335,\n        \"max\": 4240.0,\n        \"num_unique_values\": 8,\n        \"samples\": [\n          49.58018867924528,\n          49.0,\n          4240.0\n        ],\n        \"semantic_type\": \"\",\n        \"description\": \"\"\n      }\n    },\n    {\n      \"column\": \"education\",\n      \"properties\": {\n        \"dtype\": \"number\",\n        \"std\": 1461.2365911259458,\n        \"min\": 1.0,\n        \"max\": 4135.0,\n        \"num_unique_values\": 7,\n        \"samples\": [\n          4135.0,\n          1.9794437726723095,\n          3.0\n        ],\n        \"semantic_type\": \"\",\n        \"description\": \"\"\n      }\n    },\n    {\n      \"column\": \"currentSmoker\",\n      \"properties\": {\n        \"dtype\": \"number\",\n        \"std\": 1498.9152076422486,\n        \"min\": 0.0,\n        \"max\": 4240.0,\n        \"num_unique_values\": 5,\n        \"samples\": [\n          0.49410377358490565,\n          1.0,\n          0.5000242019006013\n        ],\n        \"semantic_type\": \"\",\n        \"description\": \"\"\n      }\n    },\n    {\n      \"column\": \"cigsPerDay\",\n      \"properties\": {\n        \"dtype\": \"number\",\n        \"std\": 1483.391919922047,\n        \"min\": 0.0,\n        \"max\": 4211.0,\n        \"num_unique_values\": 6,\n        \"samples\": [\n          4211.0,\n          9.005936832106388,\n          70.0\n        ],\n        \"semantic_type\": \"\",\n        \"description\": \"\"\n      }\n    },\n    {\n      \"column\": \"BPMeds\",\n      \"properties\": {\n        \"dtype\": \"number\",\n        \"std\": 1480.2675194703102,\n        \"min\": 0.0,\n        \"max\": 4187.0,\n        \"num_unique_values\": 5,\n        \"samples\": [\n          0.029615476474802963,\n          1.0,\n          0.16954428739625657\n        ],\n        \"semantic_type\": \"\",\n        \"description\": \"\"\n      }\n    },\n    {\n      \"column\": \"prevalentStroke\",\n      \"properties\": {\n        \"dtype\": \"number\",\n        \"std\": 1499.0117433100606,\n        \"min\": 0.0,\n        \"max\": 4240.0,\n        \"num_unique_values\": 5,\n        \"samples\": [\n          0.00589622641509434,\n          1.0,\n          0.07656920840198135\n        ],\n        \"semantic_type\": \"\",\n        \"description\": \"\"\n      }\n    },\n    {\n      \"column\": \"prevalentHyp\",\n      \"properties\": {\n        \"dtype\": \"number\",\n        \"std\": 1498.926355379932,\n        \"min\": 0.0,\n        \"max\": 4240.0,\n        \"num_unique_values\": 5,\n        \"samples\": [\n          0.3106132075471698,\n          1.0,\n          0.4627992628992739\n        ],\n        \"semantic_type\": \"\",\n        \"description\": \"\"\n      }\n    },\n    {\n      \"column\": \"diabetes\",\n      \"properties\": {\n        \"dtype\": \"number\",\n        \"std\": 1499.00661504402,\n        \"min\": 0.0,\n        \"max\": 4240.0,\n        \"num_unique_values\": 5,\n        \"samples\": [\n          0.025707547169811322,\n          1.0,\n          0.15828006133169992\n        ],\n        \"semantic_type\": \"\",\n        \"description\": \"\"\n      }\n    },\n    {\n      \"column\": \"totChol\",\n      \"properties\": {\n        \"dtype\": \"number\",\n        \"std\": 1404.601640190698,\n        \"min\": 44.59128386860702,\n        \"max\": 4190.0,\n        \"num_unique_values\": 8,\n        \"samples\": [\n          236.69952267303103,\n          234.0,\n          4190.0\n        ],\n        \"semantic_type\": \"\",\n        \"description\": \"\"\n      }\n    },\n    {\n      \"column\": \"sysBP\",\n      \"properties\": {\n        \"dtype\": \"number\",\n        \"std\": 1454.5383961628752,\n        \"min\": 22.0332996088492,\n        \"max\": 4240.0,\n        \"num_unique_values\": 8,\n        \"samples\": [\n          132.35459905660377,\n          128.0,\n          4240.0\n        ],\n        \"semantic_type\": \"\",\n        \"description\": \"\"\n      }\n    },\n    {\n      \"column\": \"diaBP\",\n      \"properties\": {\n        \"dtype\": \"number\",\n        \"std\": 1472.6461851531444,\n        \"min\": 11.910394483305936,\n        \"max\": 4240.0,\n        \"num_unique_values\": 8,\n        \"samples\": [\n          82.89775943396226,\n          82.0,\n          4240.0\n        ],\n        \"semantic_type\": \"\",\n        \"description\": \"\"\n      }\n    },\n    {\n      \"column\": \"BMI\",\n      \"properties\": {\n        \"dtype\": \"number\",\n        \"std\": 1483.396246572926,\n        \"min\": 4.079840168944382,\n        \"max\": 4221.0,\n        \"num_unique_values\": 8,\n        \"samples\": [\n          25.80080075811419,\n          25.4,\n          4221.0\n        ],\n        \"semantic_type\": \"\",\n        \"description\": \"\"\n      }\n    },\n    {\n      \"column\": \"heartRate\",\n      \"properties\": {\n        \"dtype\": \"number\",\n        \"std\": 1473.8777618374554,\n        \"min\": 12.025347984469342,\n        \"max\": 4239.0,\n        \"num_unique_values\": 8,\n        \"samples\": [\n          75.87898089171975,\n          75.0,\n          4239.0\n        ],\n        \"semantic_type\": \"\",\n        \"description\": \"\"\n      }\n    },\n    {\n      \"column\": \"glucose\",\n      \"properties\": {\n        \"dtype\": \"number\",\n        \"std\": 1327.9158071204477,\n        \"min\": 23.95433481134474,\n        \"max\": 3852.0,\n        \"num_unique_values\": 8,\n        \"samples\": [\n          81.96365524402907,\n          78.0,\n          3852.0\n        ],\n        \"semantic_type\": \"\",\n        \"description\": \"\"\n      }\n    },\n    {\n      \"column\": \"Heart Disease (in next 10 years)\",\n      \"properties\": {\n        \"dtype\": \"number\",\n        \"std\": 1498.990106510972,\n        \"min\": 0.0,\n        \"max\": 4240.0,\n        \"num_unique_values\": 5,\n        \"samples\": [\n          0.15188679245283018,\n          1.0,\n          0.3589534556348272\n        ],\n        \"semantic_type\": \"\",\n        \"description\": \"\"\n      }\n    },\n    {\n      \"column\": \"gender_Female\",\n      \"properties\": {\n        \"dtype\": \"number\",\n        \"std\": 1498.8610807661014,\n        \"min\": 0.0,\n        \"max\": 4240.0,\n        \"num_unique_values\": 5,\n        \"samples\": [\n          0.5707547169811321,\n          1.0,\n          0.4950268328135126\n        ],\n        \"semantic_type\": \"\",\n        \"description\": \"\"\n      }\n    },\n    {\n      \"column\": \"gender_Male\",\n      \"properties\": {\n        \"dtype\": \"number\",\n        \"std\": 1498.9187356195594,\n        \"min\": 0.0,\n        \"max\": 4240.0,\n        \"num_unique_values\": 5,\n        \"samples\": [\n          0.42924528301886794,\n          1.0,\n          0.4950268328135126\n        ],\n        \"semantic_type\": \"\",\n        \"description\": \"\"\n      }\n    }\n  ]\n}"
            }
          },
          "metadata": {},
          "execution_count": 180
        }
      ]
    },
    {
      "cell_type": "code",
      "source": [
        "# Checking null values if any\n",
        "df.isnull().sum()"
      ],
      "metadata": {
        "colab": {
          "base_uri": "https://localhost:8080/",
          "height": 617
        },
        "id": "VC3jPA9j5Neu",
        "outputId": "aca1d387-508c-4eea-d4da-960d1a3267ca"
      },
      "execution_count": null,
      "outputs": [
        {
          "output_type": "execute_result",
          "data": {
            "text/plain": [
              "age                                   0\n",
              "education                           105\n",
              "currentSmoker                         0\n",
              "cigsPerDay                           29\n",
              "BPMeds                               53\n",
              "prevalentStroke                       0\n",
              "prevalentHyp                          0\n",
              "diabetes                              0\n",
              "totChol                              50\n",
              "sysBP                                 0\n",
              "diaBP                                 0\n",
              "BMI                                  19\n",
              "heartRate                             1\n",
              "glucose                             388\n",
              "Heart Disease (in next 10 years)      0\n",
              "gender_Female                         0\n",
              "gender_Male                           0\n",
              "dtype: int64"
            ],
            "text/html": [
              "<div>\n",
              "<style scoped>\n",
              "    .dataframe tbody tr th:only-of-type {\n",
              "        vertical-align: middle;\n",
              "    }\n",
              "\n",
              "    .dataframe tbody tr th {\n",
              "        vertical-align: top;\n",
              "    }\n",
              "\n",
              "    .dataframe thead th {\n",
              "        text-align: right;\n",
              "    }\n",
              "</style>\n",
              "<table border=\"1\" class=\"dataframe\">\n",
              "  <thead>\n",
              "    <tr style=\"text-align: right;\">\n",
              "      <th></th>\n",
              "      <th>0</th>\n",
              "    </tr>\n",
              "  </thead>\n",
              "  <tbody>\n",
              "    <tr>\n",
              "      <th>age</th>\n",
              "      <td>0</td>\n",
              "    </tr>\n",
              "    <tr>\n",
              "      <th>education</th>\n",
              "      <td>105</td>\n",
              "    </tr>\n",
              "    <tr>\n",
              "      <th>currentSmoker</th>\n",
              "      <td>0</td>\n",
              "    </tr>\n",
              "    <tr>\n",
              "      <th>cigsPerDay</th>\n",
              "      <td>29</td>\n",
              "    </tr>\n",
              "    <tr>\n",
              "      <th>BPMeds</th>\n",
              "      <td>53</td>\n",
              "    </tr>\n",
              "    <tr>\n",
              "      <th>prevalentStroke</th>\n",
              "      <td>0</td>\n",
              "    </tr>\n",
              "    <tr>\n",
              "      <th>prevalentHyp</th>\n",
              "      <td>0</td>\n",
              "    </tr>\n",
              "    <tr>\n",
              "      <th>diabetes</th>\n",
              "      <td>0</td>\n",
              "    </tr>\n",
              "    <tr>\n",
              "      <th>totChol</th>\n",
              "      <td>50</td>\n",
              "    </tr>\n",
              "    <tr>\n",
              "      <th>sysBP</th>\n",
              "      <td>0</td>\n",
              "    </tr>\n",
              "    <tr>\n",
              "      <th>diaBP</th>\n",
              "      <td>0</td>\n",
              "    </tr>\n",
              "    <tr>\n",
              "      <th>BMI</th>\n",
              "      <td>19</td>\n",
              "    </tr>\n",
              "    <tr>\n",
              "      <th>heartRate</th>\n",
              "      <td>1</td>\n",
              "    </tr>\n",
              "    <tr>\n",
              "      <th>glucose</th>\n",
              "      <td>388</td>\n",
              "    </tr>\n",
              "    <tr>\n",
              "      <th>Heart Disease (in next 10 years)</th>\n",
              "      <td>0</td>\n",
              "    </tr>\n",
              "    <tr>\n",
              "      <th>gender_Female</th>\n",
              "      <td>0</td>\n",
              "    </tr>\n",
              "    <tr>\n",
              "      <th>gender_Male</th>\n",
              "      <td>0</td>\n",
              "    </tr>\n",
              "  </tbody>\n",
              "</table>\n",
              "</div><br><label><b>dtype:</b> int64</label>"
            ]
          },
          "metadata": {},
          "execution_count": 181
        }
      ]
    },
    {
      "cell_type": "code",
      "source": [
        "# Calculating the Median\n",
        "median = df['education'].median()\n",
        "print('The median is =', median)\n",
        "\n",
        "# Imputing mean values in the NULL columns\n",
        "new_value = SimpleImputer(strategy='median')\n",
        "df['education'] = new_value.fit_transform(df[['education']])"
      ],
      "metadata": {
        "colab": {
          "base_uri": "https://localhost:8080/"
        },
        "id": "JckpnPV45Y8e",
        "outputId": "1cbd63a2-56da-49af-9e38-4552be125f93"
      },
      "execution_count": null,
      "outputs": [
        {
          "output_type": "stream",
          "name": "stdout",
          "text": [
            "The median is = 2.0\n"
          ]
        }
      ]
    },
    {
      "cell_type": "code",
      "source": [
        "# Calculating the Median\n",
        "median = df['cigsPerDay'].median()\n",
        "print('The median is =', median)\n",
        "\n",
        "# Imputing mean values in the NULL columns\n",
        "new_value = SimpleImputer(strategy='median')\n",
        "df['cigsPerDay'] = new_value.fit_transform(df[['cigsPerDay']])"
      ],
      "metadata": {
        "colab": {
          "base_uri": "https://localhost:8080/"
        },
        "id": "nE3nl5nB6lZu",
        "outputId": "80709ccb-3945-4b97-e6a1-6941c7709591"
      },
      "execution_count": null,
      "outputs": [
        {
          "output_type": "stream",
          "name": "stdout",
          "text": [
            "The median is = 0.0\n"
          ]
        }
      ]
    },
    {
      "cell_type": "code",
      "source": [
        "# Calculating the Median\n",
        "median = df['BPMeds'].median()\n",
        "print('The median is =', median)\n",
        "\n",
        "# Imputing mean values in the NULL columns\n",
        "new_value = SimpleImputer(strategy='median')\n",
        "df['BPMeds'] = new_value.fit_transform(df[['BPMeds']])"
      ],
      "metadata": {
        "colab": {
          "base_uri": "https://localhost:8080/"
        },
        "id": "yu4za8P36nSe",
        "outputId": "a7059e29-c0a5-4368-c652-efe0d6b0d688"
      },
      "execution_count": null,
      "outputs": [
        {
          "output_type": "stream",
          "name": "stdout",
          "text": [
            "The median is = 0.0\n"
          ]
        }
      ]
    },
    {
      "cell_type": "code",
      "source": [
        "# Calculating the Median\n",
        "median = df['totChol'].median()\n",
        "print('The median is =', median)\n",
        "\n",
        "# Imputing mean values in the NULL columns\n",
        "new_value = SimpleImputer(strategy='median')\n",
        "df['totChol'] = new_value.fit_transform(df[['totChol']])"
      ],
      "metadata": {
        "colab": {
          "base_uri": "https://localhost:8080/"
        },
        "id": "2pE8KUbS6pj2",
        "outputId": "b4aa5773-9f8a-4880-9da7-7a34843114b9"
      },
      "execution_count": null,
      "outputs": [
        {
          "output_type": "stream",
          "name": "stdout",
          "text": [
            "The median is = 234.0\n"
          ]
        }
      ]
    },
    {
      "cell_type": "code",
      "source": [
        "# Calculating the Median\n",
        "median = df['BMI'].median()\n",
        "print('The median is =', median)\n",
        "\n",
        "# Imputing mean values in the NULL columns\n",
        "new_value = SimpleImputer(strategy='median')\n",
        "df['BMI'] = new_value.fit_transform(df[['BMI']])"
      ],
      "metadata": {
        "colab": {
          "base_uri": "https://localhost:8080/"
        },
        "id": "MUx78o4L6rHu",
        "outputId": "d40b68a7-a0e0-4e68-8d24-fb6ae8c0c850"
      },
      "execution_count": null,
      "outputs": [
        {
          "output_type": "stream",
          "name": "stdout",
          "text": [
            "The median is = 25.4\n"
          ]
        }
      ]
    },
    {
      "cell_type": "code",
      "source": [
        "# Calculating the Median\n",
        "median = df['heartRate'].median()\n",
        "print('The median is =', median)\n",
        "\n",
        "# Imputing mean values in the NULL columns\n",
        "new_value = SimpleImputer(strategy='median')\n",
        "df['heartRate'] = new_value.fit_transform(df[['heartRate']])"
      ],
      "metadata": {
        "colab": {
          "base_uri": "https://localhost:8080/"
        },
        "id": "gJCBDHQ86s0V",
        "outputId": "2fd4efdc-5c26-4a71-f94b-5f4f48b7ba35"
      },
      "execution_count": null,
      "outputs": [
        {
          "output_type": "stream",
          "name": "stdout",
          "text": [
            "The median is = 75.0\n"
          ]
        }
      ]
    },
    {
      "cell_type": "code",
      "source": [
        "# Calculating the Median\n",
        "median = df['glucose'].median()\n",
        "print('The median is =', median)\n",
        "\n",
        "# Imputing mean values in the NULL columns\n",
        "new_value = SimpleImputer(strategy='median')\n",
        "df['glucose'] = new_value.fit_transform(df[['glucose']])"
      ],
      "metadata": {
        "colab": {
          "base_uri": "https://localhost:8080/"
        },
        "id": "-1AL1Zq26uBW",
        "outputId": "59a5e32b-f3f4-4310-d16b-220cfce145b3"
      },
      "execution_count": null,
      "outputs": [
        {
          "output_type": "stream",
          "name": "stdout",
          "text": [
            "The median is = 78.0\n"
          ]
        }
      ]
    },
    {
      "cell_type": "code",
      "source": [
        "# Again checking null values if any\n",
        "df.isnull().sum()"
      ],
      "metadata": {
        "colab": {
          "base_uri": "https://localhost:8080/",
          "height": 617
        },
        "id": "9JyJyG6K7fp1",
        "outputId": "072bde76-b8ca-47d0-b7a1-04f2bdb608fe"
      },
      "execution_count": null,
      "outputs": [
        {
          "output_type": "execute_result",
          "data": {
            "text/plain": [
              "age                                 0\n",
              "education                           0\n",
              "currentSmoker                       0\n",
              "cigsPerDay                          0\n",
              "BPMeds                              0\n",
              "prevalentStroke                     0\n",
              "prevalentHyp                        0\n",
              "diabetes                            0\n",
              "totChol                             0\n",
              "sysBP                               0\n",
              "diaBP                               0\n",
              "BMI                                 0\n",
              "heartRate                           0\n",
              "glucose                             0\n",
              "Heart Disease (in next 10 years)    0\n",
              "gender_Female                       0\n",
              "gender_Male                         0\n",
              "dtype: int64"
            ],
            "text/html": [
              "<div>\n",
              "<style scoped>\n",
              "    .dataframe tbody tr th:only-of-type {\n",
              "        vertical-align: middle;\n",
              "    }\n",
              "\n",
              "    .dataframe tbody tr th {\n",
              "        vertical-align: top;\n",
              "    }\n",
              "\n",
              "    .dataframe thead th {\n",
              "        text-align: right;\n",
              "    }\n",
              "</style>\n",
              "<table border=\"1\" class=\"dataframe\">\n",
              "  <thead>\n",
              "    <tr style=\"text-align: right;\">\n",
              "      <th></th>\n",
              "      <th>0</th>\n",
              "    </tr>\n",
              "  </thead>\n",
              "  <tbody>\n",
              "    <tr>\n",
              "      <th>age</th>\n",
              "      <td>0</td>\n",
              "    </tr>\n",
              "    <tr>\n",
              "      <th>education</th>\n",
              "      <td>0</td>\n",
              "    </tr>\n",
              "    <tr>\n",
              "      <th>currentSmoker</th>\n",
              "      <td>0</td>\n",
              "    </tr>\n",
              "    <tr>\n",
              "      <th>cigsPerDay</th>\n",
              "      <td>0</td>\n",
              "    </tr>\n",
              "    <tr>\n",
              "      <th>BPMeds</th>\n",
              "      <td>0</td>\n",
              "    </tr>\n",
              "    <tr>\n",
              "      <th>prevalentStroke</th>\n",
              "      <td>0</td>\n",
              "    </tr>\n",
              "    <tr>\n",
              "      <th>prevalentHyp</th>\n",
              "      <td>0</td>\n",
              "    </tr>\n",
              "    <tr>\n",
              "      <th>diabetes</th>\n",
              "      <td>0</td>\n",
              "    </tr>\n",
              "    <tr>\n",
              "      <th>totChol</th>\n",
              "      <td>0</td>\n",
              "    </tr>\n",
              "    <tr>\n",
              "      <th>sysBP</th>\n",
              "      <td>0</td>\n",
              "    </tr>\n",
              "    <tr>\n",
              "      <th>diaBP</th>\n",
              "      <td>0</td>\n",
              "    </tr>\n",
              "    <tr>\n",
              "      <th>BMI</th>\n",
              "      <td>0</td>\n",
              "    </tr>\n",
              "    <tr>\n",
              "      <th>heartRate</th>\n",
              "      <td>0</td>\n",
              "    </tr>\n",
              "    <tr>\n",
              "      <th>glucose</th>\n",
              "      <td>0</td>\n",
              "    </tr>\n",
              "    <tr>\n",
              "      <th>Heart Disease (in next 10 years)</th>\n",
              "      <td>0</td>\n",
              "    </tr>\n",
              "    <tr>\n",
              "      <th>gender_Female</th>\n",
              "      <td>0</td>\n",
              "    </tr>\n",
              "    <tr>\n",
              "      <th>gender_Male</th>\n",
              "      <td>0</td>\n",
              "    </tr>\n",
              "  </tbody>\n",
              "</table>\n",
              "</div><br><label><b>dtype:</b> int64</label>"
            ]
          },
          "metadata": {},
          "execution_count": 189
        }
      ]
    },
    {
      "cell_type": "code",
      "source": [
        "# Counting the values of the target column\n",
        "df['Heart Disease (in next 10 years)'].value_counts()"
      ],
      "metadata": {
        "colab": {
          "base_uri": "https://localhost:8080/",
          "height": 178
        },
        "id": "pR9JsrsE7jCF",
        "outputId": "d2e7b0d2-3d9f-4506-a533-bcac182e8e03"
      },
      "execution_count": null,
      "outputs": [
        {
          "output_type": "execute_result",
          "data": {
            "text/plain": [
              "Heart Disease (in next 10 years)\n",
              "0    3596\n",
              "1     644\n",
              "Name: count, dtype: int64"
            ],
            "text/html": [
              "<div>\n",
              "<style scoped>\n",
              "    .dataframe tbody tr th:only-of-type {\n",
              "        vertical-align: middle;\n",
              "    }\n",
              "\n",
              "    .dataframe tbody tr th {\n",
              "        vertical-align: top;\n",
              "    }\n",
              "\n",
              "    .dataframe thead th {\n",
              "        text-align: right;\n",
              "    }\n",
              "</style>\n",
              "<table border=\"1\" class=\"dataframe\">\n",
              "  <thead>\n",
              "    <tr style=\"text-align: right;\">\n",
              "      <th></th>\n",
              "      <th>count</th>\n",
              "    </tr>\n",
              "    <tr>\n",
              "      <th>Heart Disease (in next 10 years)</th>\n",
              "      <th></th>\n",
              "    </tr>\n",
              "  </thead>\n",
              "  <tbody>\n",
              "    <tr>\n",
              "      <th>0</th>\n",
              "      <td>3596</td>\n",
              "    </tr>\n",
              "    <tr>\n",
              "      <th>1</th>\n",
              "      <td>644</td>\n",
              "    </tr>\n",
              "  </tbody>\n",
              "</table>\n",
              "</div><br><label><b>dtype:</b> int64</label>"
            ]
          },
          "metadata": {},
          "execution_count": 190
        }
      ]
    },
    {
      "cell_type": "code",
      "source": [
        "# Representing N classes using a Bar Chart\n",
        "category_counts = df['Heart Disease (in next 10 years)'].value_counts()\n",
        "\n",
        "plt.figure(figsize=(4, 4))\n",
        "plt.pie(category_counts, labels=category_counts.index, autopct='%1.1f%%', colors=['#4b82a0', '#f6aa54'])\n",
        "plt.title('Distribution of Heart Disease Classes')\n",
        "\n",
        "plt.show()"
      ],
      "metadata": {
        "colab": {
          "base_uri": "https://localhost:8080/",
          "height": 367
        },
        "id": "m3Ji7xAP78Yt",
        "outputId": "eae9053f-fc95-46d5-d2a2-3e512059569c"
      },
      "execution_count": null,
      "outputs": [
        {
          "output_type": "display_data",
          "data": {
            "text/plain": [
              "<Figure size 400x400 with 1 Axes>"
            ],
            "image/png": "[encoded data removed]"
          },
          "metadata": {}
        }
      ]
    },
    {
      "cell_type": "code",
      "source": [
        "# Calculating the correlation matrix\n",
        "df_correlation = df.corr()\n",
        "df_correlation"
      ],
      "metadata": {
        "colab": {
          "base_uri": "https://localhost:8080/",
          "height": 582
        },
        "id": "28ePl5ff8ESF",
        "outputId": "3d8d7c39-bd6c-4608-8dea-c77bc76a70b8"
      },
      "execution_count": null,
      "outputs": [
        {
          "output_type": "execute_result",
          "data": {
            "text/plain": [
              "                                       age  education  currentSmoker  \\\n",
              "age                               1.000000  -0.164016      -0.213662   \n",
              "education                        -0.164016   1.000000       0.018270   \n",
              "currentSmoker                    -0.213662   0.018270       1.000000   \n",
              "cigsPerDay                       -0.192017   0.007856       0.760326   \n",
              "BPMeds                            0.121011  -0.010445      -0.048348   \n",
              "prevalentStroke                   0.057679  -0.035178      -0.032980   \n",
              "prevalentHyp                      0.306799  -0.080780      -0.103710   \n",
              "diabetes                          0.101314  -0.038204      -0.044285   \n",
              "totChol                           0.260527  -0.022851      -0.046391   \n",
              "sysBP                             0.394053  -0.128139      -0.130281   \n",
              "diaBP                             0.205586  -0.061326      -0.107933   \n",
              "BMI                               0.135470  -0.135744      -0.167368   \n",
              "heartRate                        -0.012868  -0.053658       0.062661   \n",
              "glucose                           0.117878  -0.034090      -0.055082   \n",
              "Heart Disease (in next 10 years)  0.225408  -0.053570       0.019448   \n",
              "gender_Female                     0.029014  -0.017265      -0.197026   \n",
              "gender_Male                      -0.029014   0.017265       0.197026   \n",
              "\n",
              "                                  cigsPerDay    BPMeds  prevalentStroke  \\\n",
              "age                                -0.192017  0.121011         0.057679   \n",
              "education                           0.007856 -0.010445        -0.035178   \n",
              "currentSmoker                       0.760326 -0.048348        -0.032980   \n",
              "cigsPerDay                          1.000000 -0.044697        -0.032248   \n",
              "BPMeds                             -0.044697  1.000000         0.114614   \n",
              "prevalentStroke                    -0.032248  0.114614         1.000000   \n",
              "prevalentHyp                       -0.065541  0.258580         0.074791   \n",
              "diabetes                           -0.036173  0.051407         0.006955   \n",
              "totChol                            -0.027134  0.078642         0.000160   \n",
              "sysBP                              -0.088393  0.251479         0.057000   \n",
              "diaBP                              -0.056768  0.192254         0.045153   \n",
              "BMI                                -0.092647  0.099617         0.024283   \n",
              "heartRate                           0.074258  0.015139        -0.017672   \n",
              "glucose                            -0.056792  0.049142         0.018730   \n",
              "Heart Disease (in next 10 years)    0.058729  0.086448         0.061823   \n",
              "gender_Female                      -0.314849  0.051544         0.004550   \n",
              "gender_Male                         0.314849 -0.051544        -0.004550   \n",
              "\n",
              "                                  prevalentHyp  diabetes   totChol     sysBP  \\\n",
              "age                                   0.306799  0.101314  0.260527  0.394053   \n",
              "education                            -0.080780 -0.038204 -0.022851 -0.128139   \n",
              "currentSmoker                        -0.103710 -0.044285 -0.046391 -0.130281   \n",
              "cigsPerDay                           -0.065541 -0.036173 -0.027134 -0.088393   \n",
              "BPMeds                                0.258580  0.051407  0.078642  0.251479   \n",
              "prevalentStroke                       0.074791  0.006955  0.000160  0.057000   \n",
              "prevalentHyp                          1.000000  0.077752  0.162696  0.696656   \n",
              "diabetes                              0.077752  1.000000  0.040186  0.111265   \n",
              "totChol                               0.162696  0.040186  1.000000  0.207350   \n",
              "sysBP                                 0.696656  0.111265  0.207350  1.000000   \n",
              "diaBP                                 0.615840  0.050260  0.163408  0.783952   \n",
              "BMI                                   0.300537  0.086058  0.115035  0.325087   \n",
              "heartRate                             0.146751  0.048989  0.090541  0.182052   \n",
              "glucose                               0.083406  0.606495  0.045677  0.135091   \n",
              "Heart Disease (in next 10 years)      0.177458  0.097344  0.081749  0.216374   \n",
              "gender_Female                        -0.005853 -0.015693  0.069643  0.035879   \n",
              "gender_Male                           0.005853  0.015693 -0.069643 -0.035879   \n",
              "\n",
              "                                     diaBP       BMI  heartRate   glucose  \\\n",
              "age                               0.205586  0.135470  -0.012868  0.117878   \n",
              "education                        -0.061326 -0.135744  -0.053658 -0.034090   \n",
              "currentSmoker                    -0.107933 -0.167368   0.062661 -0.055082   \n",
              "cigsPerDay                       -0.056768 -0.092647   0.074258 -0.056792   \n",
              "BPMeds                            0.192254  0.099617   0.015139  0.049142   \n",
              "prevalentStroke                   0.045153  0.024283  -0.017672  0.018730   \n",
              "prevalentHyp                      0.615840  0.300537   0.146751  0.083406   \n",
              "diabetes                          0.050260  0.086058   0.048989  0.606495   \n",
              "totChol                           0.163408  0.115035   0.090541  0.045677   \n",
              "sysBP                             0.783952  0.325087   0.182052  0.135091   \n",
              "diaBP                             1.000000  0.376396   0.181023  0.058899   \n",
              "BMI                               0.376396  1.000000   0.067293  0.082228   \n",
              "heartRate                         0.181023  0.067293   1.000000  0.087362   \n",
              "glucose                           0.058899  0.082228   0.087362  1.000000   \n",
              "Heart Disease (in next 10 years)  0.145112  0.074326   0.022851  0.121319   \n",
              "gender_Female                    -0.058199 -0.081852   0.116933 -0.009970   \n",
              "gender_Male                       0.058199  0.081852  -0.116933  0.009970   \n",
              "\n",
              "                                  Heart Disease (in next 10 years)  \\\n",
              "age                                                       0.225408   \n",
              "education                                                -0.053570   \n",
              "currentSmoker                                             0.019448   \n",
              "cigsPerDay                                                0.058729   \n",
              "BPMeds                                                    0.086448   \n",
              "prevalentStroke                                           0.061823   \n",
              "prevalentHyp                                              0.177458   \n",
              "diabetes                                                  0.097344   \n",
              "totChol                                                   0.081749   \n",
              "sysBP                                                     0.216374   \n",
              "diaBP                                                     0.145112   \n",
              "BMI                                                       0.074326   \n",
              "heartRate                                                 0.022851   \n",
              "glucose                                                   0.121319   \n",
              "Heart Disease (in next 10 years)                          1.000000   \n",
              "gender_Female                                            -0.088374   \n",
              "gender_Male                                               0.088374   \n",
              "\n",
              "                                  gender_Female  gender_Male  \n",
              "age                                    0.029014    -0.029014  \n",
              "education                             -0.017265     0.017265  \n",
              "currentSmoker                         -0.197026     0.197026  \n",
              "cigsPerDay                            -0.314849     0.314849  \n",
              "BPMeds                                 0.051544    -0.051544  \n",
              "prevalentStroke                        0.004550    -0.004550  \n",
              "prevalentHyp                          -0.005853     0.005853  \n",
              "diabetes                              -0.015693     0.015693  \n",
              "totChol                                0.069643    -0.069643  \n",
              "sysBP                                  0.035879    -0.035879  \n",
              "diaBP                                 -0.058199     0.058199  \n",
              "BMI                                   -0.081852     0.081852  \n",
              "heartRate                              0.116933    -0.116933  \n",
              "glucose                               -0.009970     0.009970  \n",
              "Heart Disease (in next 10 years)      -0.088374     0.088374  \n",
              "gender_Female                          1.000000    -1.000000  \n",
              "gender_Male                           -1.000000     1.000000  "
            ],
            "text/html": [
              "\n",
              "  <div id=\"df-213f8e83-5870-4d9c-906f-3716917afcae\" class=\"colab-df-container\">\n",
              "    <div>\n",
              "<style scoped>\n",
              "    .dataframe tbody tr th:only-of-type {\n",
              "        vertical-align: middle;\n",
              "    }\n",
              "\n",
              "    .dataframe tbody tr th {\n",
              "        vertical-align: top;\n",
              "    }\n",
              "\n",
              "    .dataframe thead th {\n",
              "        text-align: right;\n",
              "    }\n",
              "</style>\n",
              "<table border=\"1\" class=\"dataframe\">\n",
              "  <thead>\n",
              "    <tr style=\"text-align: right;\">\n",
              "      <th></th>\n",
              "      <th>age</th>\n",
              "      <th>education</th>\n",
              "      <th>currentSmoker</th>\n",
              "      <th>cigsPerDay</th>\n",
              "      <th>BPMeds</th>\n",
              "      <th>prevalentStroke</th>\n",
              "      <th>prevalentHyp</th>\n",
              "      <th>diabetes</th>\n",
              "      <th>totChol</th>\n",
              "      <th>sysBP</th>\n",
              "      <th>diaBP</th>\n",
              "      <th>BMI</th>\n",
              "      <th>heartRate</th>\n",
              "      <th>glucose</th>\n",
              "      <th>Heart Disease (in next 10 years)</th>\n",
              "      <th>gender_Female</th>\n",
              "      <th>gender_Male</th>\n",
              "    </tr>\n",
              "  </thead>\n",
              "  <tbody>\n",
              "    <tr>\n",
              "      <th>age</th>\n",
              "      <td>1.000000</td>\n",
              "      <td>-0.164016</td>\n",
              "      <td>-0.213662</td>\n",
              "      <td>-0.192017</td>\n",
              "      <td>0.121011</td>\n",
              "      <td>0.057679</td>\n",
              "      <td>0.306799</td>\n",
              "      <td>0.101314</td>\n",
              "      <td>0.260527</td>\n",
              "      <td>0.394053</td>\n",
              "      <td>0.205586</td>\n",
              "      <td>0.135470</td>\n",
              "      <td>-0.012868</td>\n",
              "      <td>0.117878</td>\n",
              "      <td>0.225408</td>\n",
              "      <td>0.029014</td>\n",
              "      <td>-0.029014</td>\n",
              "    </tr>\n",
              "    <tr>\n",
              "      <th>education</th>\n",
              "      <td>-0.164016</td>\n",
              "      <td>1.000000</td>\n",
              "      <td>0.018270</td>\n",
              "      <td>0.007856</td>\n",
              "      <td>-0.010445</td>\n",
              "      <td>-0.035178</td>\n",
              "      <td>-0.080780</td>\n",
              "      <td>-0.038204</td>\n",
              "      <td>-0.022851</td>\n",
              "      <td>-0.128139</td>\n",
              "      <td>-0.061326</td>\n",
              "      <td>-0.135744</td>\n",
              "      <td>-0.053658</td>\n",
              "      <td>-0.034090</td>\n",
              "      <td>-0.053570</td>\n",
              "      <td>-0.017265</td>\n",
              "      <td>0.017265</td>\n",
              "    </tr>\n",
              "    <tr>\n",
              "      <th>currentSmoker</th>\n",
              "      <td>-0.213662</td>\n",
              "      <td>0.018270</td>\n",
              "      <td>1.000000</td>\n",
              "      <td>0.760326</td>\n",
              "      <td>-0.048348</td>\n",
              "      <td>-0.032980</td>\n",
              "      <td>-0.103710</td>\n",
              "      <td>-0.044285</td>\n",
              "      <td>-0.046391</td>\n",
              "      <td>-0.130281</td>\n",
              "      <td>-0.107933</td>\n",
              "      <td>-0.167368</td>\n",
              "      <td>0.062661</td>\n",
              "      <td>-0.055082</td>\n",
              "      <td>0.019448</td>\n",
              "      <td>-0.197026</td>\n",
              "      <td>0.197026</td>\n",
              "    </tr>\n",
              "    <tr>\n",
              "      <th>cigsPerDay</th>\n",
              "      <td>-0.192017</td>\n",
              "      <td>0.007856</td>\n",
              "      <td>0.760326</td>\n",
              "      <td>1.000000</td>\n",
              "      <td>-0.044697</td>\n",
              "      <td>-0.032248</td>\n",
              "      <td>-0.065541</td>\n",
              "      <td>-0.036173</td>\n",
              "      <td>-0.027134</td>\n",
              "      <td>-0.088393</td>\n",
              "      <td>-0.056768</td>\n",
              "      <td>-0.092647</td>\n",
              "      <td>0.074258</td>\n",
              "      <td>-0.056792</td>\n",
              "      <td>0.058729</td>\n",
              "      <td>-0.314849</td>\n",
              "      <td>0.314849</td>\n",
              "    </tr>\n",
              "    <tr>\n",
              "      <th>BPMeds</th>\n",
              "      <td>0.121011</td>\n",
              "      <td>-0.010445</td>\n",
              "      <td>-0.048348</td>\n",
              "      <td>-0.044697</td>\n",
              "      <td>1.000000</td>\n",
              "      <td>0.114614</td>\n",
              "      <td>0.258580</td>\n",
              "      <td>0.051407</td>\n",
              "      <td>0.078642</td>\n",
              "      <td>0.251479</td>\n",
              "      <td>0.192254</td>\n",
              "      <td>0.099617</td>\n",
              "      <td>0.015139</td>\n",
              "      <td>0.049142</td>\n",
              "      <td>0.086448</td>\n",
              "      <td>0.051544</td>\n",
              "      <td>-0.051544</td>\n",
              "    </tr>\n",
              "    <tr>\n",
              "      <th>prevalentStroke</th>\n",
              "      <td>0.057679</td>\n",
              "      <td>-0.035178</td>\n",
              "      <td>-0.032980</td>\n",
              "      <td>-0.032248</td>\n",
              "      <td>0.114614</td>\n",
              "      <td>1.000000</td>\n",
              "      <td>0.074791</td>\n",
              "      <td>0.006955</td>\n",
              "      <td>0.000160</td>\n",
              "      <td>0.057000</td>\n",
              "      <td>0.045153</td>\n",
              "      <td>0.024283</td>\n",
              "      <td>-0.017672</td>\n",
              "      <td>0.018730</td>\n",
              "      <td>0.061823</td>\n",
              "      <td>0.004550</td>\n",
              "      <td>-0.004550</td>\n",
              "    </tr>\n",
              "    <tr>\n",
              "      <th>prevalentHyp</th>\n",
              "      <td>0.306799</td>\n",
              "      <td>-0.080780</td>\n",
              "      <td>-0.103710</td>\n",
              "      <td>-0.065541</td>\n",
              "      <td>0.258580</td>\n",
              "      <td>0.074791</td>\n",
              "      <td>1.000000</td>\n",
              "      <td>0.077752</td>\n",
              "      <td>0.162696</td>\n",
              "      <td>0.696656</td>\n",
              "      <td>0.615840</td>\n",
              "      <td>0.300537</td>\n",
              "      <td>0.146751</td>\n",
              "      <td>0.083406</td>\n",
              "      <td>0.177458</td>\n",
              "      <td>-0.005853</td>\n",
              "      <td>0.005853</td>\n",
              "    </tr>\n",
              "    <tr>\n",
              "      <th>diabetes</th>\n",
              "      <td>0.101314</td>\n",
              "      <td>-0.038204</td>\n",
              "      <td>-0.044285</td>\n",
              "      <td>-0.036173</td>\n",
              "      <td>0.051407</td>\n",
              "      <td>0.006955</td>\n",
              "      <td>0.077752</td>\n",
              "      <td>1.000000</td>\n",
              "      <td>0.040186</td>\n",
              "      <td>0.111265</td>\n",
              "      <td>0.050260</td>\n",
              "      <td>0.086058</td>\n",
              "      <td>0.048989</td>\n",
              "      <td>0.606495</td>\n",
              "      <td>0.097344</td>\n",
              "      <td>-0.015693</td>\n",
              "      <td>0.015693</td>\n",
              "    </tr>\n",
              "    <tr>\n",
              "      <th>totChol</th>\n",
              "      <td>0.260527</td>\n",
              "      <td>-0.022851</td>\n",
              "      <td>-0.046391</td>\n",
              "      <td>-0.027134</td>\n",
              "      <td>0.078642</td>\n",
              "      <td>0.000160</td>\n",
              "      <td>0.162696</td>\n",
              "      <td>0.040186</td>\n",
              "      <td>1.000000</td>\n",
              "      <td>0.207350</td>\n",
              "      <td>0.163408</td>\n",
              "      <td>0.115035</td>\n",
              "      <td>0.090541</td>\n",
              "      <td>0.045677</td>\n",
              "      <td>0.081749</td>\n",
              "      <td>0.069643</td>\n",
              "      <td>-0.069643</td>\n",
              "    </tr>\n",
              "    <tr>\n",
              "      <th>sysBP</th>\n",
              "      <td>0.394053</td>\n",
              "      <td>-0.128139</td>\n",
              "      <td>-0.130281</td>\n",
              "      <td>-0.088393</td>\n",
              "      <td>0.251479</td>\n",
              "      <td>0.057000</td>\n",
              "      <td>0.696656</td>\n",
              "      <td>0.111265</td>\n",
              "      <td>0.207350</td>\n",
              "      <td>1.000000</td>\n",
              "      <td>0.783952</td>\n",
              "      <td>0.325087</td>\n",
              "      <td>0.182052</td>\n",
              "      <td>0.135091</td>\n",
              "      <td>0.216374</td>\n",
              "      <td>0.035879</td>\n",
              "      <td>-0.035879</td>\n",
              "    </tr>\n",
              "    <tr>\n",
              "      <th>diaBP</th>\n",
              "      <td>0.205586</td>\n",
              "      <td>-0.061326</td>\n",
              "      <td>-0.107933</td>\n",
              "      <td>-0.056768</td>\n",
              "      <td>0.192254</td>\n",
              "      <td>0.045153</td>\n",
              "      <td>0.615840</td>\n",
              "      <td>0.050260</td>\n",
              "      <td>0.163408</td>\n",
              "      <td>0.783952</td>\n",
              "      <td>1.000000</td>\n",
              "      <td>0.376396</td>\n",
              "      <td>0.181023</td>\n",
              "      <td>0.058899</td>\n",
              "      <td>0.145112</td>\n",
              "      <td>-0.058199</td>\n",
              "      <td>0.058199</td>\n",
              "    </tr>\n",
              "    <tr>\n",
              "      <th>BMI</th>\n",
              "      <td>0.135470</td>\n",
              "      <td>-0.135744</td>\n",
              "      <td>-0.167368</td>\n",
              "      <td>-0.092647</td>\n",
              "      <td>0.099617</td>\n",
              "      <td>0.024283</td>\n",
              "      <td>0.300537</td>\n",
              "      <td>0.086058</td>\n",
              "      <td>0.115035</td>\n",
              "      <td>0.325087</td>\n",
              "      <td>0.376396</td>\n",
              "      <td>1.000000</td>\n",
              "      <td>0.067293</td>\n",
              "      <td>0.082228</td>\n",
              "      <td>0.074326</td>\n",
              "      <td>-0.081852</td>\n",
              "      <td>0.081852</td>\n",
              "    </tr>\n",
              "    <tr>\n",
              "      <th>heartRate</th>\n",
              "      <td>-0.012868</td>\n",
              "      <td>-0.053658</td>\n",
              "      <td>0.062661</td>\n",
              "      <td>0.074258</td>\n",
              "      <td>0.015139</td>\n",
              "      <td>-0.017672</td>\n",
              "      <td>0.146751</td>\n",
              "      <td>0.048989</td>\n",
              "      <td>0.090541</td>\n",
              "      <td>0.182052</td>\n",
              "      <td>0.181023</td>\n",
              "      <td>0.067293</td>\n",
              "      <td>1.000000</td>\n",
              "      <td>0.087362</td>\n",
              "      <td>0.022851</td>\n",
              "      <td>0.116933</td>\n",
              "      <td>-0.116933</td>\n",
              "    </tr>\n",
              "    <tr>\n",
              "      <th>glucose</th>\n",
              "      <td>0.117878</td>\n",
              "      <td>-0.034090</td>\n",
              "      <td>-0.055082</td>\n",
              "      <td>-0.056792</td>\n",
              "      <td>0.049142</td>\n",
              "      <td>0.018730</td>\n",
              "      <td>0.083406</td>\n",
              "      <td>0.606495</td>\n",
              "      <td>0.045677</td>\n",
              "      <td>0.135091</td>\n",
              "      <td>0.058899</td>\n",
              "      <td>0.082228</td>\n",
              "      <td>0.087362</td>\n",
              "      <td>1.000000</td>\n",
              "      <td>0.121319</td>\n",
              "      <td>-0.009970</td>\n",
              "      <td>0.009970</td>\n",
              "    </tr>\n",
              "    <tr>\n",
              "      <th>Heart Disease (in next 10 years)</th>\n",
              "      <td>0.225408</td>\n",
              "      <td>-0.053570</td>\n",
              "      <td>0.019448</td>\n",
              "      <td>0.058729</td>\n",
              "      <td>0.086448</td>\n",
              "      <td>0.061823</td>\n",
              "      <td>0.177458</td>\n",
              "      <td>0.097344</td>\n",
              "      <td>0.081749</td>\n",
              "      <td>0.216374</td>\n",
              "      <td>0.145112</td>\n",
              "      <td>0.074326</td>\n",
              "      <td>0.022851</td>\n",
              "      <td>0.121319</td>\n",
              "      <td>1.000000</td>\n",
              "      <td>-0.088374</td>\n",
              "      <td>0.088374</td>\n",
              "    </tr>\n",
              "    <tr>\n",
              "      <th>gender_Female</th>\n",
              "      <td>0.029014</td>\n",
              "      <td>-0.017265</td>\n",
              "      <td>-0.197026</td>\n",
              "      <td>-0.314849</td>\n",
              "      <td>0.051544</td>\n",
              "      <td>0.004550</td>\n",
              "      <td>-0.005853</td>\n",
              "      <td>-0.015693</td>\n",
              "      <td>0.069643</td>\n",
              "      <td>0.035879</td>\n",
              "      <td>-0.058199</td>\n",
              "      <td>-0.081852</td>\n",
              "      <td>0.116933</td>\n",
              "      <td>-0.009970</td>\n",
              "      <td>-0.088374</td>\n",
              "      <td>1.000000</td>\n",
              "      <td>-1.000000</td>\n",
              "    </tr>\n",
              "    <tr>\n",
              "      <th>gender_Male</th>\n",
              "      <td>-0.029014</td>\n",
              "      <td>0.017265</td>\n",
              "      <td>0.197026</td>\n",
              "      <td>0.314849</td>\n",
              "      <td>-0.051544</td>\n",
              "      <td>-0.004550</td>\n",
              "      <td>0.005853</td>\n",
              "      <td>0.015693</td>\n",
              "      <td>-0.069643</td>\n",
              "      <td>-0.035879</td>\n",
              "      <td>0.058199</td>\n",
              "      <td>0.081852</td>\n",
              "      <td>-0.116933</td>\n",
              "      <td>0.009970</td>\n",
              "      <td>0.088374</td>\n",
              "      <td>-1.000000</td>\n",
              "      <td>1.000000</td>\n",
              "    </tr>\n",
              "  </tbody>\n",
              "</table>\n",
              "</div>\n",
              "    <div class=\"colab-df-buttons\">\n",
              "\n",
              "  <div class=\"colab-df-container\">\n",
              "    <button class=\"colab-df-convert\" onclick=\"convertToInteractive('df-213f8e83-5870-4d9c-906f-3716917afcae')\"\n",
              "            title=\"Convert this dataframe to an interactive table.\"\n",
              "            style=\"display:none;\">\n",
              "\n",
              "  <svg xmlns=\"http://www.w3.org/2000/svg\" height=\"24px\" viewBox=\"0 -960 960 960\">\n",
              "    <path d=\"M120-120v-720h720v720H120Zm60-500h600v-160H180v160Zm220 220h160v-160H400v160Zm0 220h160v-160H400v160ZM180-400h160v-160H180v160Zm440 0h160v-160H620v160ZM180-180h160v-160H180v160Zm440 0h160v-160H620v160Z\"/>\n",
              "  </svg>\n",
              "    </button>\n",
              "\n",
              "  <style>\n",
              "    .colab-df-container {\n",
              "      display:flex;\n",
              "      gap: 12px;\n",
              "    }\n",
              "\n",
              "    .colab-df-convert {\n",
              "      background-color: #E8F0FE;\n",
              "      border: none;\n",
              "      border-radius: 50%;\n",
              "      cursor: pointer;\n",
              "      display: none;\n",
              "      fill: #1967D2;\n",
              "      height: 32px;\n",
              "      padding: 0 0 0 0;\n",
              "      width: 32px;\n",
              "    }\n",
              "\n",
              "    .colab-df-convert:hover {\n",
              "      background-color: #E2EBFA;\n",
              "      box-shadow: 0px 1px 2px rgba(60, 64, 67, 0.3), 0px 1px 3px 1px rgba(60, 64, 67, 0.15);\n",
              "      fill: #174EA6;\n",
              "    }\n",
              "\n",
              "    .colab-df-buttons div {\n",
              "      margin-bottom: 4px;\n",
              "    }\n",
              "\n",
              "    [theme=dark] .colab-df-convert {\n",
              "      background-color: #3B4455;\n",
              "      fill: #D2E3FC;\n",
              "    }\n",
              "\n",
              "    [theme=dark] .colab-df-convert:hover {\n",
              "      background-color: #434B5C;\n",
              "      box-shadow: 0px 1px 3px 1px rgba(0, 0, 0, 0.15);\n",
              "      filter: drop-shadow(0px 1px 2px rgba(0, 0, 0, 0.3));\n",
              "      fill: #FFFFFF;\n",
              "    }\n",
              "  </style>\n",
              "\n",
              "    <script>\n",
              "      const buttonEl =\n",
              "        document.querySelector('#df-213f8e83-5870-4d9c-906f-3716917afcae button.colab-df-convert');\n",
              "      buttonEl.style.display =\n",
              "        google.colab.kernel.accessAllowed ? 'block' : 'none';\n",
              "\n",
              "      async function convertToInteractive(key) {\n",
              "        const element = document.querySelector('#df-213f8e83-5870-4d9c-906f-3716917afcae');\n",
              "        const dataTable =\n",
              "          await google.colab.kernel.invokeFunction('convertToInteractive',\n",
              "                                                    [key], {});\n",
              "        if (!dataTable) return;\n",
              "\n",
              "        const docLinkHtml = 'Like what you see? Visit the ' +\n",
              "          '<a target=\"_blank\" href=https://colab.research.google.com/notebooks/data_table.ipynb>data table notebook</a>'\n",
              "          + ' to learn more about interactive tables.';\n",
              "        element.innerHTML = '';\n",
              "        dataTable['output_type'] = 'display_data';\n",
              "        await google.colab.output.renderOutput(dataTable, element);\n",
              "        const docLink = document.createElement('div');\n",
              "        docLink.innerHTML = docLinkHtml;\n",
              "        element.appendChild(docLink);\n",
              "      }\n",
              "    </script>\n",
              "  </div>\n",
              "\n",
              "\n",
              "    <div id=\"df-c1bf4860-147a-48e3-90a8-d99db66330a7\">\n",
              "      <button class=\"colab-df-quickchart\" onclick=\"quickchart('df-c1bf4860-147a-48e3-90a8-d99db66330a7')\"\n",
              "                title=\"Suggest charts\"\n",
              "                style=\"display:none;\">\n",
              "\n",
              "<svg xmlns=\"http://www.w3.org/2000/svg\" height=\"24px\"viewBox=\"0 0 24 24\"\n",
              "     width=\"24px\">\n",
              "    <g>\n",
              "        <path d=\"M19 3H5c-1.1 0-2 .9-2 2v14c0 1.1.9 2 2 2h14c1.1 0 2-.9 2-2V5c0-1.1-.9-2-2-2zM9 17H7v-7h2v7zm4 0h-2V7h2v10zm4 0h-2v-4h2v4z\"/>\n",
              "    </g>\n",
              "</svg>\n",
              "      </button>\n",
              "\n",
              "<style>\n",
              "  .colab-df-quickchart {\n",
              "      --bg-color: #E8F0FE;\n",
              "      --fill-color: #1967D2;\n",
              "      --hover-bg-color: #E2EBFA;\n",
              "      --hover-fill-color: #174EA6;\n",
              "      --disabled-fill-color: #AAA;\n",
              "      --disabled-bg-color: #DDD;\n",
              "  }\n",
              "\n",
              "  [theme=dark] .colab-df-quickchart {\n",
              "      --bg-color: #3B4455;\n",
              "      --fill-color: #D2E3FC;\n",
              "      --hover-bg-color: #434B5C;\n",
              "      --hover-fill-color: #FFFFFF;\n",
              "      --disabled-bg-color: #3B4455;\n",
              "      --disabled-fill-color: #666;\n",
              "  }\n",
              "\n",
              "  .colab-df-quickchart {\n",
              "    background-color: var(--bg-color);\n",
              "    border: none;\n",
              "    border-radius: 50%;\n",
              "    cursor: pointer;\n",
              "    display: none;\n",
              "    fill: var(--fill-color);\n",
              "    height: 32px;\n",
              "    padding: 0;\n",
              "    width: 32px;\n",
              "  }\n",
              "\n",
              "  .colab-df-quickchart:hover {\n",
              "    background-color: var(--hover-bg-color);\n",
              "    box-shadow: 0 1px 2px rgba(60, 64, 67, 0.3), 0 1px 3px 1px rgba(60, 64, 67, 0.15);\n",
              "    fill: var(--button-hover-fill-color);\n",
              "  }\n",
              "\n",
              "  .colab-df-quickchart-complete:disabled,\n",
              "  .colab-df-quickchart-complete:disabled:hover {\n",
              "    background-color: var(--disabled-bg-color);\n",
              "    fill: var(--disabled-fill-color);\n",
              "    box-shadow: none;\n",
              "  }\n",
              "\n",
              "  .colab-df-spinner {\n",
              "    border: 2px solid var(--fill-color);\n",
              "    border-color: transparent;\n",
              "    border-bottom-color: var(--fill-color);\n",
              "    animation:\n",
              "      spin 1s steps(1) infinite;\n",
              "  }\n",
              "\n",
              "  @keyframes spin {\n",
              "    0% {\n",
              "      border-color: transparent;\n",
              "      border-bottom-color: var(--fill-color);\n",
              "      border-left-color: var(--fill-color);\n",
              "    }\n",
              "    20% {\n",
              "      border-color: transparent;\n",
              "      border-left-color: var(--fill-color);\n",
              "      border-top-color: var(--fill-color);\n",
              "    }\n",
              "    30% {\n",
              "      border-color: transparent;\n",
              "      border-left-color: var(--fill-color);\n",
              "      border-top-color: var(--fill-color);\n",
              "      border-right-color: var(--fill-color);\n",
              "    }\n",
              "    40% {\n",
              "      border-color: transparent;\n",
              "      border-right-color: var(--fill-color);\n",
              "      border-top-color: var(--fill-color);\n",
              "    }\n",
              "    60% {\n",
              "      border-color: transparent;\n",
              "      border-right-color: var(--fill-color);\n",
              "    }\n",
              "    80% {\n",
              "      border-color: transparent;\n",
              "      border-right-color: var(--fill-color);\n",
              "      border-bottom-color: var(--fill-color);\n",
              "    }\n",
              "    90% {\n",
              "      border-color: transparent;\n",
              "      border-bottom-color: var(--fill-color);\n",
              "    }\n",
              "  }\n",
              "</style>\n",
              "\n",
              "      <script>\n",
              "        async function quickchart(key) {\n",
              "          const quickchartButtonEl =\n",
              "            document.querySelector('#' + key + ' button');\n",
              "          quickchartButtonEl.disabled = true;  // To prevent multiple clicks.\n",
              "          quickchartButtonEl.classList.add('colab-df-spinner');\n",
              "          try {\n",
              "            const charts = await google.colab.kernel.invokeFunction(\n",
              "                'suggestCharts', [key], {});\n",
              "          } catch (error) {\n",
              "            console.error('Error during call to suggestCharts:', error);\n",
              "          }\n",
              "          quickchartButtonEl.classList.remove('colab-df-spinner');\n",
              "          quickchartButtonEl.classList.add('colab-df-quickchart-complete');\n",
              "        }\n",
              "        (() => {\n",
              "          let quickchartButtonEl =\n",
              "            document.querySelector('#df-c1bf4860-147a-48e3-90a8-d99db66330a7 button');\n",
              "          quickchartButtonEl.style.display =\n",
              "            google.colab.kernel.accessAllowed ? 'block' : 'none';\n",
              "        })();\n",
              "      </script>\n",
              "    </div>\n",
              "\n",
              "  <div id=\"id_14d1a421-b4a0-4546-afb8-1f6039fd3a3e\">\n",
              "    <style>\n",
              "      .colab-df-generate {\n",
              "        background-color: #E8F0FE;\n",
              "        border: none;\n",
              "        border-radius: 50%;\n",
              "        cursor: pointer;\n",
              "        display: none;\n",
              "        fill: #1967D2;\n",
              "        height: 32px;\n",
              "        padding: 0 0 0 0;\n",
              "        width: 32px;\n",
              "      }\n",
              "\n",
              "      .colab-df-generate:hover {\n",
              "        background-color: #E2EBFA;\n",
              "        box-shadow: 0px 1px 2px rgba(60, 64, 67, 0.3), 0px 1px 3px 1px rgba(60, 64, 67, 0.15);\n",
              "        fill: #174EA6;\n",
              "      }\n",
              "\n",
              "      [theme=dark] .colab-df-generate {\n",
              "        background-color: #3B4455;\n",
              "        fill: #D2E3FC;\n",
              "      }\n",
              "\n",
              "      [theme=dark] .colab-df-generate:hover {\n",
              "        background-color: #434B5C;\n",
              "        box-shadow: 0px 1px 3px 1px rgba(0, 0, 0, 0.15);\n",
              "        filter: drop-shadow(0px 1px 2px rgba(0, 0, 0, 0.3));\n",
              "        fill: #FFFFFF;\n",
              "      }\n",
              "    </style>\n",
              "    <button class=\"colab-df-generate\" onclick=\"generateWithVariable('df_correlation')\"\n",
              "            title=\"Generate code using this dataframe.\"\n",
              "            style=\"display:none;\">\n",
              "\n",
              "  <svg xmlns=\"http://www.w3.org/2000/svg\" height=\"24px\"viewBox=\"0 0 24 24\"\n",
              "       width=\"24px\">\n",
              "    <path d=\"M7,19H8.4L18.45,9,17,7.55,7,17.6ZM5,21V16.75L18.45,3.32a2,2,0,0,1,2.83,0l1.4,1.43a1.91,1.91,0,0,1,.58,1.4,1.91,1.91,0,0,1-.58,1.4L9.25,21ZM18.45,9,17,7.55Zm-12,3A5.31,5.31,0,0,0,4.9,8.1,5.31,5.31,0,0,0,1,6.5,5.31,5.31,0,0,0,4.9,4.9,5.31,5.31,0,0,0,6.5,1,5.31,5.31,0,0,0,8.1,4.9,5.31,5.31,0,0,0,12,6.5,5.46,5.46,0,0,0,6.5,12Z\"/>\n",
              "  </svg>\n",
              "    </button>\n",
              "    <script>\n",
              "      (() => {\n",
              "      const buttonEl =\n",
              "        document.querySelector('#id_14d1a421-b4a0-4546-afb8-1f6039fd3a3e button.colab-df-generate');\n",
              "      buttonEl.style.display =\n",
              "        google.colab.kernel.accessAllowed ? 'block' : 'none';\n",
              "\n",
              "      buttonEl.onclick = () => {\n",
              "        google.colab.notebook.generateWithVariable('df_correlation');\n",
              "      }\n",
              "      })();\n",
              "    </script>\n",
              "  </div>\n",
              "\n",
              "    </div>\n",
              "  </div>\n"
            ],
            "application/vnd.google.colaboratory.intrinsic+json": {
              "type": "dataframe",
              "variable_name": "df_correlation",
              "summary": "{\n  \"name\": \"df_correlation\",\n  \"rows\": 17,\n  \"fields\": [\n    {\n      \"column\": \"age\",\n      \"properties\": {\n        \"dtype\": \"number\",\n        \"std\": 0.28052869637988215,\n        \"min\": -0.21366166108783047,\n        \"max\": 1.0,\n        \"num_unique_values\": 17,\n        \"samples\": [\n          1.0,\n          -0.16401561738485881,\n          0.057678612519790916\n        ],\n        \"semantic_type\": \"\",\n        \"description\": \"\"\n      }\n    },\n    {\n      \"column\": \"education\",\n      \"properties\": {\n        \"dtype\": \"number\",\n        \"std\": 0.2598937618990901,\n        \"min\": -0.16401561738485881,\n        \"max\": 1.0,\n        \"num_unique_values\": 17,\n        \"samples\": [\n          -0.16401561738485881,\n          1.0,\n          -0.03517780732004896\n        ],\n        \"semantic_type\": \"\",\n        \"description\": \"\"\n      }\n    },\n    {\n      \"column\": \"currentSmoker\",\n      \"properties\": {\n        \"dtype\": \"number\",\n        \"std\": 0.3293178512641509,\n        \"min\": -0.21366166108783047,\n        \"max\": 1.0,\n        \"num_unique_values\": 17,\n        \"samples\": [\n          -0.21366166108783047,\n          0.018269643316139866,\n          -0.03298038577690151\n        ],\n        \"semantic_type\": \"\",\n        \"description\": \"\"\n      }\n    },\n    {\n      \"column\": \"cigsPerDay\",\n      \"properties\": {\n        \"dtype\": \"number\",\n        \"std\": 0.3324649047490045,\n        \"min\": -0.3148487419754488,\n        \"max\": 1.0,\n        \"num_unique_values\": 17,\n        \"samples\": [\n          -0.19201735051419275,\n          0.007856222777604989,\n          -0.032248445468175437\n        ],\n        \"semantic_type\": \"\",\n        \"description\": \"\"\n      }\n    },\n    {\n      \"column\": \"BPMeds\",\n      \"properties\": {\n        \"dtype\": \"number\",\n        \"std\": 0.24301649217308133,\n        \"min\": -0.0515436549213905,\n        \"max\": 1.0,\n        \"num_unique_values\": 17,\n        \"samples\": [\n          0.12101081383743231,\n          -0.010445173173983685,\n          0.11461399672773842\n        ],\n        \"semantic_type\": \"\",\n        \"description\": \"\"\n      }\n    },\n    {\n      \"column\": \"prevalentStroke\",\n      \"properties\": {\n        \"dtype\": \"number\",\n        \"std\": 0.24106018351545777,\n        \"min\": -0.03517780732004896,\n        \"max\": 1.0,\n        \"num_unique_values\": 17,\n        \"samples\": [\n          0.057678612519790916,\n          -0.03517780732004896,\n          1.0\n        ],\n        \"semantic_type\": \"\",\n        \"description\": \"\"\n      }\n    },\n    {\n      \"column\": \"prevalentHyp\",\n      \"properties\": {\n        \"dtype\": \"number\",\n        \"std\": 0.30118844490537716,\n        \"min\": -0.1037102973418295,\n        \"max\": 1.0,\n        \"num_unique_values\": 17,\n        \"samples\": [\n          0.30679946700721106,\n          -0.08078004136941569,\n          0.07479112753058031\n        ],\n        \"semantic_type\": \"\",\n        \"description\": \"\"\n      }\n    },\n    {\n      \"column\": \"diabetes\",\n      \"properties\": {\n        \"dtype\": \"number\",\n        \"std\": 0.26851170270589525,\n        \"min\": -0.04428529804760833,\n        \"max\": 1.0,\n        \"num_unique_values\": 17,\n        \"samples\": [\n          0.1013140769286269,\n          -0.038204380138370374,\n          0.006955093817220101\n        ],\n        \"semantic_type\": \"\",\n        \"description\": \"\"\n      }\n    },\n    {\n      \"column\": \"totChol\",\n      \"properties\": {\n        \"dtype\": \"number\",\n        \"std\": 0.24281435745769847,\n        \"min\": -0.0696432318147723,\n        \"max\": 1.0,\n        \"num_unique_values\": 17,\n        \"samples\": [\n          0.2605265225970671,\n          -0.022850579690489103,\n          0.00016039638058100992\n        ],\n        \"semantic_type\": \"\",\n        \"description\": \"\"\n      }\n    },\n    {\n      \"column\": \"sysBP\",\n      \"properties\": {\n        \"dtype\": \"number\",\n        \"std\": 0.32376332413480585,\n        \"min\": -0.130281486967726,\n        \"max\": 1.0,\n        \"num_unique_values\": 17,\n        \"samples\": [\n          0.3940533163927691,\n          -0.12813865399664098,\n          0.05699993720737158\n        ],\n        \"semantic_type\": \"\",\n        \"description\": \"\"\n      }\n    },\n    {\n      \"column\": \"diaBP\",\n      \"properties\": {\n        \"dtype\": \"number\",\n        \"std\": 0.3132294756999137,\n        \"min\": -0.10793318710938606,\n        \"max\": 1.0,\n        \"num_unique_values\": 17,\n        \"samples\": [\n          0.205585520982906,\n          -0.06132620772866962,\n          0.04515346644278936\n        ],\n        \"semantic_type\": \"\",\n        \"description\": \"\"\n      }\n    },\n    {\n      \"column\": \"BMI\",\n      \"properties\": {\n        \"dtype\": \"number\",\n        \"std\": 0.26969745568563475,\n        \"min\": -0.16736831705087632,\n        \"max\": 1.0,\n        \"num_unique_values\": 17,\n        \"samples\": [\n          0.13546972981183653,\n          -0.13574364464917665,\n          0.024283194241696223\n        ],\n        \"semantic_type\": \"\",\n        \"description\": \"\"\n      }\n    },\n    {\n      \"column\": \"heartRate\",\n      \"properties\": {\n        \"dtype\": \"number\",\n        \"std\": 0.2423746167153672,\n        \"min\": -0.11693306319404272,\n        \"max\": 1.0,\n        \"num_unique_values\": 17,\n        \"samples\": [\n          -0.012868007914144124,\n          -0.05365804385828571,\n          -0.017672248086242674\n        ],\n        \"semantic_type\": \"\",\n        \"description\": \"\"\n      }\n    },\n    {\n      \"column\": \"glucose\",\n      \"properties\": {\n        \"dtype\": \"number\",\n        \"std\": 0.26826686358097945,\n        \"min\": -0.05679208353270371,\n        \"max\": 1.0,\n        \"num_unique_values\": 17,\n        \"samples\": [\n          0.11787831064508439,\n          -0.03409017800887468,\n          0.018730132426716947\n        ],\n        \"semantic_type\": \"\",\n        \"description\": \"\"\n      }\n    },\n    {\n      \"column\": \"Heart Disease (in next 10 years)\",\n      \"properties\": {\n        \"dtype\": \"number\",\n        \"std\": 0.2371762881714994,\n        \"min\": -0.08837357241125846,\n        \"max\": 1.0,\n        \"num_unique_values\": 17,\n        \"samples\": [\n          0.22540774458750035,\n          -0.05356976478749299,\n          0.06182262818175407\n        ],\n        \"semantic_type\": \"\",\n        \"description\": \"\"\n      }\n    },\n    {\n      \"column\": \"gender_Female\",\n      \"properties\": {\n        \"dtype\": \"number\",\n        \"std\": 0.3679516691796922,\n        \"min\": -1.0000000000000002,\n        \"max\": 1.0,\n        \"num_unique_values\": 17,\n        \"samples\": [\n          0.029013582393791086,\n          -0.017264950421912104,\n          0.0045503994585287845\n        ],\n        \"semantic_type\": \"\",\n        \"description\": \"\"\n      }\n    },\n    {\n      \"column\": \"gender_Male\",\n      \"properties\": {\n        \"dtype\": \"number\",\n        \"std\": 0.3679516691796922,\n        \"min\": -1.0000000000000002,\n        \"max\": 1.0,\n        \"num_unique_values\": 17,\n        \"samples\": [\n          -0.02901358239379105,\n          0.017264950421912086,\n          -0.004550399458528742\n        ],\n        \"semantic_type\": \"\",\n        \"description\": \"\"\n      }\n    }\n  ]\n}"
            }
          },
          "metadata": {},
          "execution_count": 192
        }
      ]
    },
    {
      "cell_type": "code",
      "source": [
        "target = df_correlation['Heart Disease (in next 10 years)']\n",
        "target"
      ],
      "metadata": {
        "colab": {
          "base_uri": "https://localhost:8080/",
          "height": 617
        },
        "id": "jq2yN1fj-6NM",
        "outputId": "36974758-121c-486c-faa8-4553605c1069"
      },
      "execution_count": null,
      "outputs": [
        {
          "output_type": "execute_result",
          "data": {
            "text/plain": [
              "age                                 0.225408\n",
              "education                          -0.053570\n",
              "currentSmoker                       0.019448\n",
              "cigsPerDay                          0.058729\n",
              "BPMeds                              0.086448\n",
              "prevalentStroke                     0.061823\n",
              "prevalentHyp                        0.177458\n",
              "diabetes                            0.097344\n",
              "totChol                             0.081749\n",
              "sysBP                               0.216374\n",
              "diaBP                               0.145112\n",
              "BMI                                 0.074326\n",
              "heartRate                           0.022851\n",
              "glucose                             0.121319\n",
              "Heart Disease (in next 10 years)    1.000000\n",
              "gender_Female                      -0.088374\n",
              "gender_Male                         0.088374\n",
              "Name: Heart Disease (in next 10 years), dtype: float64"
            ],
            "text/html": [
              "<div>\n",
              "<style scoped>\n",
              "    .dataframe tbody tr th:only-of-type {\n",
              "        vertical-align: middle;\n",
              "    }\n",
              "\n",
              "    .dataframe tbody tr th {\n",
              "        vertical-align: top;\n",
              "    }\n",
              "\n",
              "    .dataframe thead th {\n",
              "        text-align: right;\n",
              "    }\n",
              "</style>\n",
              "<table border=\"1\" class=\"dataframe\">\n",
              "  <thead>\n",
              "    <tr style=\"text-align: right;\">\n",
              "      <th></th>\n",
              "      <th>Heart Disease (in next 10 years)</th>\n",
              "    </tr>\n",
              "  </thead>\n",
              "  <tbody>\n",
              "    <tr>\n",
              "      <th>age</th>\n",
              "      <td>0.225408</td>\n",
              "    </tr>\n",
              "    <tr>\n",
              "      <th>education</th>\n",
              "      <td>-0.053570</td>\n",
              "    </tr>\n",
              "    <tr>\n",
              "      <th>currentSmoker</th>\n",
              "      <td>0.019448</td>\n",
              "    </tr>\n",
              "    <tr>\n",
              "      <th>cigsPerDay</th>\n",
              "      <td>0.058729</td>\n",
              "    </tr>\n",
              "    <tr>\n",
              "      <th>BPMeds</th>\n",
              "      <td>0.086448</td>\n",
              "    </tr>\n",
              "    <tr>\n",
              "      <th>prevalentStroke</th>\n",
              "      <td>0.061823</td>\n",
              "    </tr>\n",
              "    <tr>\n",
              "      <th>prevalentHyp</th>\n",
              "      <td>0.177458</td>\n",
              "    </tr>\n",
              "    <tr>\n",
              "      <th>diabetes</th>\n",
              "      <td>0.097344</td>\n",
              "    </tr>\n",
              "    <tr>\n",
              "      <th>totChol</th>\n",
              "      <td>0.081749</td>\n",
              "    </tr>\n",
              "    <tr>\n",
              "      <th>sysBP</th>\n",
              "      <td>0.216374</td>\n",
              "    </tr>\n",
              "    <tr>\n",
              "      <th>diaBP</th>\n",
              "      <td>0.145112</td>\n",
              "    </tr>\n",
              "    <tr>\n",
              "      <th>BMI</th>\n",
              "      <td>0.074326</td>\n",
              "    </tr>\n",
              "    <tr>\n",
              "      <th>heartRate</th>\n",
              "      <td>0.022851</td>\n",
              "    </tr>\n",
              "    <tr>\n",
              "      <th>glucose</th>\n",
              "      <td>0.121319</td>\n",
              "    </tr>\n",
              "    <tr>\n",
              "      <th>Heart Disease (in next 10 years)</th>\n",
              "      <td>1.000000</td>\n",
              "    </tr>\n",
              "    <tr>\n",
              "      <th>gender_Female</th>\n",
              "      <td>-0.088374</td>\n",
              "    </tr>\n",
              "    <tr>\n",
              "      <th>gender_Male</th>\n",
              "      <td>0.088374</td>\n",
              "    </tr>\n",
              "  </tbody>\n",
              "</table>\n",
              "</div><br><label><b>dtype:</b> float64</label>"
            ]
          },
          "metadata": {},
          "execution_count": 193
        }
      ]
    },
    {
      "cell_type": "code",
      "source": [
        "# Generating a heatmap for visualization of the correlation matrix\n",
        "plt.figure(figsize=(16, 10))\n",
        "\n",
        "sns.heatmap(df_correlation, cmap = 'RdBu', annot = True)\n",
        "\n",
        "plt.title('Correlation Heatmap')\n",
        "plt.xlabel('Features')\n",
        "plt.ylabel('Features')\n",
        "plt.xticks(rotation=90)\n",
        "\n",
        "plt.show()"
      ],
      "metadata": {
        "colab": {
          "base_uri": "https://localhost:8080/",
          "height": 1000
        },
        "id": "CiJSAXts8LtN",
        "outputId": "e8a10858-11ef-495d-e4a4-20481053cdac"
      },
      "execution_count": null,
      "outputs": [
        {
          "output_type": "display_data",
          "data": {
            "text/plain": [
              "<Figure size 1600x1000 with 2 Axes>"
            ],
            "image/png": "[encoded data removed]"
          },
          "metadata": {}
        }
      ]
    },
    {
      "cell_type": "code",
      "source": [
        "# Showing total number of columns\n",
        "df.shape[1]"
      ],
      "metadata": {
        "colab": {
          "base_uri": "https://localhost:8080/"
        },
        "id": "yOXBl6ms8YhN",
        "outputId": "8b7324db-3da2-406e-88be-cd652f2742cc"
      },
      "execution_count": null,
      "outputs": [
        {
          "output_type": "execute_result",
          "data": {
            "text/plain": [
              "17"
            ]
          },
          "metadata": {},
          "execution_count": 195
        }
      ]
    },
    {
      "cell_type": "code",
      "source": [
        "# Showing the columns\n",
        "df.columns"
      ],
      "metadata": {
        "colab": {
          "base_uri": "https://localhost:8080/"
        },
        "id": "E8eWHQCI8bsN",
        "outputId": "c666623e-67b9-4bf7-f6c0-271c131a3025"
      },
      "execution_count": null,
      "outputs": [
        {
          "output_type": "execute_result",
          "data": {
            "text/plain": [
              "Index(['age', 'education', 'currentSmoker', 'cigsPerDay', 'BPMeds',\n",
              "       'prevalentStroke', 'prevalentHyp', 'diabetes', 'totChol', 'sysBP',\n",
              "       'diaBP', 'BMI', 'heartRate', 'glucose',\n",
              "       'Heart Disease (in next 10 years)', 'gender_Female', 'gender_Male'],\n",
              "      dtype='object')"
            ]
          },
          "metadata": {},
          "execution_count": 196
        }
      ]
    },
    {
      "cell_type": "code",
      "source": [
        "# Dropping the unnesassary columns\n",
        "df = df.drop(['gender_Female'], axis = 1)"
      ],
      "metadata": {
        "id": "XxQONdVDzr5G"
      },
      "execution_count": null,
      "outputs": []
    },
    {
      "cell_type": "code",
      "source": [
        "# Shape of the dataset\n",
        "df.shape"
      ],
      "metadata": {
        "colab": {
          "base_uri": "https://localhost:8080/"
        },
        "id": "HFz3aI6Rz7pl",
        "outputId": "4b1a2cf9-00d4-447f-9375-9d0abe3b0746"
      },
      "execution_count": null,
      "outputs": [
        {
          "output_type": "execute_result",
          "data": {
            "text/plain": [
              "(4240, 16)"
            ]
          },
          "metadata": {},
          "execution_count": 198
        }
      ]
    },
    {
      "cell_type": "code",
      "source": [
        "# Separating the Data and Labels\n",
        "X = df.drop(columns = 'Heart Disease (in next 10 years)', axis = 1)  # Saving the features\n",
        "Y = df['Heart Disease (in next 10 years)']   # Saving the labels"
      ],
      "metadata": {
        "id": "59wjeRLN0B7d"
      },
      "execution_count": null,
      "outputs": []
    },
    {
      "cell_type": "code",
      "source": [
        "print('Features:\\n', X)\n",
        "print('-----------------------------------------------------------')\n",
        "print('Label:\\n', Y)"
      ],
      "metadata": {
        "colab": {
          "base_uri": "https://localhost:8080/"
        },
        "id": "yj3sMF_d0Nxd",
        "outputId": "33aecded-d83e-4a67-e9e3-b0a406faabeb"
      },
      "execution_count": null,
      "outputs": [
        {
          "output_type": "stream",
          "name": "stdout",
          "text": [
            "Features:\n",
            "       age  education  currentSmoker  cigsPerDay  BPMeds  prevalentStroke  \\\n",
            "0      39        4.0              0         0.0     0.0                0   \n",
            "1      46        2.0              0         0.0     0.0                0   \n",
            "2      48        1.0              1        20.0     0.0                0   \n",
            "3      61        3.0              1        30.0     0.0                0   \n",
            "4      46        3.0              1        23.0     0.0                0   \n",
            "...   ...        ...            ...         ...     ...              ...   \n",
            "4235   48        2.0              1        20.0     0.0                0   \n",
            "4236   44        1.0              1        15.0     0.0                0   \n",
            "4237   52        2.0              0         0.0     0.0                0   \n",
            "4238   40        3.0              0         0.0     0.0                0   \n",
            "4239   39        3.0              1        30.0     0.0                0   \n",
            "\n",
            "      prevalentHyp  diabetes  totChol  sysBP  diaBP    BMI  heartRate  \\\n",
            "0                0         0    195.0  106.0   70.0  26.97       80.0   \n",
            "1                0         0    250.0  121.0   81.0  28.73       95.0   \n",
            "2                0         0    245.0  127.5   80.0  25.34       75.0   \n",
            "3                1         0    225.0  150.0   95.0  28.58       65.0   \n",
            "4                0         0    285.0  130.0   84.0  23.10       85.0   \n",
            "...            ...       ...      ...    ...    ...    ...        ...   \n",
            "4235             0         0    248.0  131.0   72.0  22.00       84.0   \n",
            "4236             0         0    210.0  126.5   87.0  19.16       86.0   \n",
            "4237             0         0    269.0  133.5   83.0  21.47       80.0   \n",
            "4238             1         0    185.0  141.0   98.0  25.60       67.0   \n",
            "4239             0         0    196.0  133.0   86.0  20.91       85.0   \n",
            "\n",
            "      glucose  gender_Male  \n",
            "0        77.0            1  \n",
            "1        76.0            0  \n",
            "2        70.0            1  \n",
            "3       103.0            0  \n",
            "4        85.0            0  \n",
            "...       ...          ...  \n",
            "4235     86.0            0  \n",
            "4236     78.0            0  \n",
            "4237    107.0            0  \n",
            "4238     72.0            1  \n",
            "4239     80.0            0  \n",
            "\n",
            "[4240 rows x 15 columns]\n",
            "-----------------------------------------------------------\n",
            "Label:\n",
            " 0       0\n",
            "1       0\n",
            "2       0\n",
            "3       1\n",
            "4       0\n",
            "       ..\n",
            "4235    0\n",
            "4236    0\n",
            "4237    0\n",
            "4238    0\n",
            "4239    0\n",
            "Name: Heart Disease (in next 10 years), Length: 4240, dtype: int64\n"
          ]
        }
      ]
    },
    {
      "cell_type": "markdown",
      "source": [
        "## Splitting the Train and the Test into **80:20** Ratio"
      ],
      "metadata": {
        "id": "yWfnm3SN0cyl"
      }
    },
    {
      "cell_type": "code",
      "source": [
        "X_train, X_test, Y_train, Y_test = train_test_split(X, Y, stratify = Y, test_size = 0.2, random_state = 42)"
      ],
      "metadata": {
        "id": "fH7FpjUk2U98"
      },
      "execution_count": null,
      "outputs": []
    },
    {
      "cell_type": "code",
      "source": [
        "print('Original Data Shape --->', X.shape)\n",
        "print('Training Data Shape --->', X_train.shape)\n",
        "print('Test Data Shape ------->', X_test.shape)"
      ],
      "metadata": {
        "colab": {
          "base_uri": "https://localhost:8080/"
        },
        "id": "nix8G1Po2dnc",
        "outputId": "0ad2caeb-aa7f-4027-fe1b-5d24e3de94d2"
      },
      "execution_count": null,
      "outputs": [
        {
          "output_type": "stream",
          "name": "stdout",
          "text": [
            "Original Data Shape ---> (4240, 15)\n",
            "Training Data Shape ---> (3392, 15)\n",
            "Test Data Shape -------> (848, 15)\n"
          ]
        }
      ]
    },
    {
      "cell_type": "code",
      "source": [
        "# Apply SMOTE to training data only\n",
        "smote = SMOTE(random_state = 42)\n",
        "X_train_resampled, Y_train_resampled = smote.fit_resample(X_train, Y_train)"
      ],
      "metadata": {
        "id": "Kyug8pFF7QDT"
      },
      "execution_count": null,
      "outputs": []
    },
    {
      "cell_type": "code",
      "source": [
        "print('Training Data Shape --->', X_train_resampled.shape)"
      ],
      "metadata": {
        "colab": {
          "base_uri": "https://localhost:8080/"
        },
        "id": "iHyP_2Wb8q8y",
        "outputId": "ba30d3de-069e-41a7-931c-ea5262a7d186"
      },
      "execution_count": null,
      "outputs": [
        {
          "output_type": "stream",
          "name": "stdout",
          "text": [
            "Training Data Shape ---> (5754, 15)\n"
          ]
        }
      ]
    },
    {
      "cell_type": "code",
      "source": [
        "# Counting the values of the label column\n",
        "df['Heart Disease (in next 10 years)'].value_counts()"
      ],
      "metadata": {
        "colab": {
          "base_uri": "https://localhost:8080/",
          "height": 178
        },
        "id": "p3ty4Xdj2wI8",
        "outputId": "9d1c1e21-6fee-425a-f761-bdbf625cae0a"
      },
      "execution_count": null,
      "outputs": [
        {
          "output_type": "execute_result",
          "data": {
            "text/plain": [
              "Heart Disease (in next 10 years)\n",
              "0    3596\n",
              "1     644\n",
              "Name: count, dtype: int64"
            ],
            "text/html": [
              "<div>\n",
              "<style scoped>\n",
              "    .dataframe tbody tr th:only-of-type {\n",
              "        vertical-align: middle;\n",
              "    }\n",
              "\n",
              "    .dataframe tbody tr th {\n",
              "        vertical-align: top;\n",
              "    }\n",
              "\n",
              "    .dataframe thead th {\n",
              "        text-align: right;\n",
              "    }\n",
              "</style>\n",
              "<table border=\"1\" class=\"dataframe\">\n",
              "  <thead>\n",
              "    <tr style=\"text-align: right;\">\n",
              "      <th></th>\n",
              "      <th>count</th>\n",
              "    </tr>\n",
              "    <tr>\n",
              "      <th>Heart Disease (in next 10 years)</th>\n",
              "      <th></th>\n",
              "    </tr>\n",
              "  </thead>\n",
              "  <tbody>\n",
              "    <tr>\n",
              "      <th>0</th>\n",
              "      <td>3596</td>\n",
              "    </tr>\n",
              "    <tr>\n",
              "      <th>1</th>\n",
              "      <td>644</td>\n",
              "    </tr>\n",
              "  </tbody>\n",
              "</table>\n",
              "</div><br><label><b>dtype:</b> int64</label>"
            ]
          },
          "metadata": {},
          "execution_count": 205
        }
      ]
    },
    {
      "cell_type": "code",
      "source": [
        "# Checking Heart Disease frequency in training values\n",
        "Y_train_resampled.value_counts()"
      ],
      "metadata": {
        "colab": {
          "base_uri": "https://localhost:8080/",
          "height": 178
        },
        "id": "YYybPdvc3AQE",
        "outputId": "64532d31-401e-429e-e69f-7916b1f259b3"
      },
      "execution_count": null,
      "outputs": [
        {
          "output_type": "execute_result",
          "data": {
            "text/plain": [
              "Heart Disease (in next 10 years)\n",
              "0    2877\n",
              "1    2877\n",
              "Name: count, dtype: int64"
            ],
            "text/html": [
              "<div>\n",
              "<style scoped>\n",
              "    .dataframe tbody tr th:only-of-type {\n",
              "        vertical-align: middle;\n",
              "    }\n",
              "\n",
              "    .dataframe tbody tr th {\n",
              "        vertical-align: top;\n",
              "    }\n",
              "\n",
              "    .dataframe thead th {\n",
              "        text-align: right;\n",
              "    }\n",
              "</style>\n",
              "<table border=\"1\" class=\"dataframe\">\n",
              "  <thead>\n",
              "    <tr style=\"text-align: right;\">\n",
              "      <th></th>\n",
              "      <th>count</th>\n",
              "    </tr>\n",
              "    <tr>\n",
              "      <th>Heart Disease (in next 10 years)</th>\n",
              "      <th></th>\n",
              "    </tr>\n",
              "  </thead>\n",
              "  <tbody>\n",
              "    <tr>\n",
              "      <th>0</th>\n",
              "      <td>2877</td>\n",
              "    </tr>\n",
              "    <tr>\n",
              "      <th>1</th>\n",
              "      <td>2877</td>\n",
              "    </tr>\n",
              "  </tbody>\n",
              "</table>\n",
              "</div><br><label><b>dtype:</b> int64</label>"
            ]
          },
          "metadata": {},
          "execution_count": 206
        }
      ]
    },
    {
      "cell_type": "code",
      "source": [
        "# Checking Heart Disease frequency in test values\n",
        "Y_test.value_counts()"
      ],
      "metadata": {
        "colab": {
          "base_uri": "https://localhost:8080/",
          "height": 178
        },
        "id": "0Ax1MrR73PI0",
        "outputId": "0f4e649b-c23f-49bb-b5b7-cf09d1d5690f"
      },
      "execution_count": null,
      "outputs": [
        {
          "output_type": "execute_result",
          "data": {
            "text/plain": [
              "Heart Disease (in next 10 years)\n",
              "0    719\n",
              "1    129\n",
              "Name: count, dtype: int64"
            ],
            "text/html": [
              "<div>\n",
              "<style scoped>\n",
              "    .dataframe tbody tr th:only-of-type {\n",
              "        vertical-align: middle;\n",
              "    }\n",
              "\n",
              "    .dataframe tbody tr th {\n",
              "        vertical-align: top;\n",
              "    }\n",
              "\n",
              "    .dataframe thead th {\n",
              "        text-align: right;\n",
              "    }\n",
              "</style>\n",
              "<table border=\"1\" class=\"dataframe\">\n",
              "  <thead>\n",
              "    <tr style=\"text-align: right;\">\n",
              "      <th></th>\n",
              "      <th>count</th>\n",
              "    </tr>\n",
              "    <tr>\n",
              "      <th>Heart Disease (in next 10 years)</th>\n",
              "      <th></th>\n",
              "    </tr>\n",
              "  </thead>\n",
              "  <tbody>\n",
              "    <tr>\n",
              "      <th>0</th>\n",
              "      <td>719</td>\n",
              "    </tr>\n",
              "    <tr>\n",
              "      <th>1</th>\n",
              "      <td>129</td>\n",
              "    </tr>\n",
              "  </tbody>\n",
              "</table>\n",
              "</div><br><label><b>dtype:</b> int64</label>"
            ]
          },
          "metadata": {},
          "execution_count": 207
        }
      ]
    },
    {
      "cell_type": "code",
      "source": [
        "train_frequency_count = Y_train_resampled.value_counts()\n",
        "test_frequency_count = Y_test.value_counts()\n",
        "\n",
        "fig = plt.figure(figsize=(8, 5))\n",
        "\n",
        "# Defining Sub Plots\n",
        "axes = fig.subplots(nrows=1, ncols=2)\n",
        "\n",
        "# Representing Heart Disease frequency in training values\n",
        "train_frequency_count.plot(kind='bar', color='#4b82a0', ax=axes[0])\n",
        "axes[0].set_title('Heart Disease Frequency in Training Set')\n",
        "axes[0].set_xlabel('Categories')\n",
        "axes[0].set_ylabel('Frequency')\n",
        "axes[0].set_ylim(0, 3000)\n",
        "axes[0].set_xticklabels(train_frequency_count.index, rotation=0)\n",
        "axes[0].grid(axis='y', linestyle='--', alpha=0.3, color='black')\n",
        "\n",
        "# Representing Heart Disease frequency in test values\n",
        "test_frequency_count.plot(kind='bar', color='#f6aa54', ax=axes[1])\n",
        "axes[1].set_title('Heart Disease Frequency in Test Set')\n",
        "axes[1].set_xlabel('Categories')\n",
        "axes[1].set_ylabel('Frequency')\n",
        "axes[1].set_ylim(0, 800)\n",
        "axes[1].set_xticklabels(test_frequency_count.index, rotation=0)\n",
        "axes[1].grid(axis='y', linestyle='--', alpha=0.3, color='black')\n",
        "\n",
        "\n",
        "plt.tight_layout()\n",
        "plt.show()"
      ],
      "metadata": {
        "colab": {
          "base_uri": "https://localhost:8080/",
          "height": 507
        },
        "id": "MQhlHb6L3lyc",
        "outputId": "9a948e6d-5922-4215-dc80-2242e4baba6d"
      },
      "execution_count": null,
      "outputs": [
        {
          "output_type": "display_data",
          "data": {
            "text/plain": [
              "<Figure size 800x500 with 2 Axes>"
            ],
            "image/png": "[encoded data removed]"
          },
          "metadata": {}
        }
      ]
    },
    {
      "cell_type": "markdown",
      "source": [
        "## Checking accuracy before Feature Scaling for models like:\n",
        "1. Decision Trees\n",
        "2. Random Forest\n",
        "3. XGBoost"
      ],
      "metadata": {
        "id": "-BSYsMMy3i7W"
      }
    },
    {
      "cell_type": "markdown",
      "source": [
        "### Training the Models"
      ],
      "metadata": {
        "id": "GSnhoUgyzy0Q"
      }
    },
    {
      "cell_type": "markdown",
      "source": [
        "#### Decision Tree:\n",
        "---"
      ],
      "metadata": {
        "id": "4znd1nJj2XWI"
      }
    },
    {
      "cell_type": "code",
      "source": [
        "# Trainning the model\n",
        "depth = 10\n",
        "split = 8\n",
        "leaf = 4\n",
        "\n",
        "dt_model = DecisionTreeClassifier(max_depth = depth,\n",
        "                                  min_samples_split = split,\n",
        "                                  min_samples_leaf = leaf)\n",
        "dt_model.fit(X_train_resampled, Y_train_resampled)\n",
        "\n",
        "# Predicting on original test data\n",
        "Y_pred_dt = dt_model.predict(X_test)\n",
        "\n",
        "# Checking accuracy\n",
        "accuracy_dt = accuracy_score(Y_test, Y_pred_dt)\n",
        "\n",
        "print(f'Test Data Accuracy (DT) ----> {accuracy_dt * 100:.2f}%')"
      ],
      "metadata": {
        "colab": {
          "base_uri": "https://localhost:8080/"
        },
        "id": "_IjXe63z2WOR",
        "outputId": "6b87152e-8ac3-4a5b-8441-95c03e7d868a"
      },
      "execution_count": null,
      "outputs": [
        {
          "output_type": "stream",
          "name": "stdout",
          "text": [
            "Test Data Accuracy (DT) ----> 74.29%\n"
          ]
        }
      ]
    },
    {
      "cell_type": "code",
      "source": [
        "# Generating confusion matrix\n",
        "print(f'Confusion Matrix (DT):\\n\\n{confusion_matrix(Y_test, Y_pred_dt)}')"
      ],
      "metadata": {
        "colab": {
          "base_uri": "https://localhost:8080/"
        },
        "id": "liQF9WBm7GZF",
        "outputId": "6c2b0ae8-2cee-4707-f49e-6bc66d976b01"
      },
      "execution_count": null,
      "outputs": [
        {
          "output_type": "stream",
          "name": "stdout",
          "text": [
            "Confusion Matrix (DT):\n",
            "\n",
            "[[601 118]\n",
            " [100  29]]\n"
          ]
        }
      ]
    },
    {
      "cell_type": "code",
      "source": [
        "# Generating classification report\n",
        "print(f'Classification Report (DT):\\n\\n{classification_report(Y_test, Y_pred_dt)}')"
      ],
      "metadata": {
        "colab": {
          "base_uri": "https://localhost:8080/"
        },
        "id": "RoqXDDiH7dxS",
        "outputId": "ac91b410-1a9b-4b17-93a0-89deacd9ba34"
      },
      "execution_count": null,
      "outputs": [
        {
          "output_type": "stream",
          "name": "stdout",
          "text": [
            "Classification Report (DT):\n",
            "\n",
            "              precision    recall  f1-score   support\n",
            "\n",
            "           0       0.86      0.84      0.85       719\n",
            "           1       0.20      0.22      0.21       129\n",
            "\n",
            "    accuracy                           0.74       848\n",
            "   macro avg       0.53      0.53      0.53       848\n",
            "weighted avg       0.76      0.74      0.75       848\n",
            "\n"
          ]
        }
      ]
    },
    {
      "cell_type": "markdown",
      "source": [
        "#### Random Forest:\n",
        "---"
      ],
      "metadata": {
        "id": "Wn4sAqHf77i8"
      }
    },
    {
      "cell_type": "code",
      "source": [
        "# Trainning the model\n",
        "n = 100\n",
        "depth = 12\n",
        "split = 7\n",
        "leaf = 4\n",
        "\n",
        "rf_model = RandomForestClassifier(n_estimators = n,\n",
        "                                  max_depth = depth,\n",
        "                                  min_samples_split = split,\n",
        "                                  min_samples_leaf = leaf)\n",
        "rf_model.fit(X_train_resampled, Y_train_resampled)\n",
        "\n",
        "# Predicting on original test data\n",
        "Y_pred_rf = rf_model.predict(X_test)\n",
        "\n",
        "# Checking accuracy\n",
        "accuracy_rf = accuracy_score(Y_test, Y_pred_rf)\n",
        "\n",
        "print(f'Test Data Accuracy (RF) ----> {accuracy_rf * 100:.2f}%')"
      ],
      "metadata": {
        "colab": {
          "base_uri": "https://localhost:8080/"
        },
        "id": "YcJve0-S7x8t",
        "outputId": "cfe37f16-c669-47fc-b39a-5392d0b43311"
      },
      "execution_count": null,
      "outputs": [
        {
          "output_type": "stream",
          "name": "stdout",
          "text": [
            "Test Data Accuracy (RF) ----> 78.89%\n"
          ]
        }
      ]
    },
    {
      "cell_type": "code",
      "source": [
        "# Generating confusion matrix\n",
        "print(f'Confusion Matrix (RF):\\n\\n{confusion_matrix(Y_test, Y_pred_rf)}')"
      ],
      "metadata": {
        "colab": {
          "base_uri": "https://localhost:8080/"
        },
        "id": "CHhXgumd8nRJ",
        "outputId": "1c32fd40-e656-48ab-ccaf-f9924c257b31"
      },
      "execution_count": null,
      "outputs": [
        {
          "output_type": "stream",
          "name": "stdout",
          "text": [
            "Confusion Matrix (RF):\n",
            "\n",
            "[[643  76]\n",
            " [103  26]]\n"
          ]
        }
      ]
    },
    {
      "cell_type": "code",
      "source": [
        "# Generating classification report\n",
        "print(f'Classification Report (RF):\\n\\n{classification_report(Y_test, Y_pred_rf)}')"
      ],
      "metadata": {
        "colab": {
          "base_uri": "https://localhost:8080/"
        },
        "id": "r3Fwixa88YDf",
        "outputId": "8c906eab-9210-4f6d-b444-5265f7d802b8"
      },
      "execution_count": null,
      "outputs": [
        {
          "output_type": "stream",
          "name": "stdout",
          "text": [
            "Classification Report (RF):\n",
            "\n",
            "              precision    recall  f1-score   support\n",
            "\n",
            "           0       0.86      0.89      0.88       719\n",
            "           1       0.25      0.20      0.23       129\n",
            "\n",
            "    accuracy                           0.79       848\n",
            "   macro avg       0.56      0.55      0.55       848\n",
            "weighted avg       0.77      0.79      0.78       848\n",
            "\n"
          ]
        }
      ]
    },
    {
      "cell_type": "markdown",
      "source": [
        "#### XGBoost:\n",
        "---"
      ],
      "metadata": {
        "id": "b_nJE4J0JzKV"
      }
    },
    {
      "cell_type": "code",
      "source": [
        "# Trainning the model\n",
        "xgb_model = xgb.XGBClassifier(objective = 'binary:logistic', max_depth = 2, learning_rate = 0.1)\n",
        "xgb_model.fit(X_train_resampled, Y_train_resampled)\n",
        "\n",
        "# Predicting on original test data\n",
        "Y_pred_xgb = xgb_model.predict(X_test)\n",
        "\n",
        "# Checking accuracy\n",
        "accuracy_xgb = accuracy_score(Y_test, Y_pred_xgb)\n",
        "\n",
        "print(f'Test Data Accuracy(XGB) ----> {accuracy_xgb * 100:.2f}%')"
      ],
      "metadata": {
        "colab": {
          "base_uri": "https://localhost:8080/"
        },
        "id": "7ywIRBEkNH0H",
        "outputId": "d718c637-3952-4cff-d6a0-bdb9e56ce4b5"
      },
      "execution_count": null,
      "outputs": [
        {
          "output_type": "stream",
          "name": "stdout",
          "text": [
            "Test Data Accuracy(XGB) ----> 80.66%\n"
          ]
        }
      ]
    },
    {
      "cell_type": "code",
      "source": [
        "# Generating confusion matrix\n",
        "print(f'Confusion Matrix (XGB):\\n\\n{confusion_matrix(Y_test, Y_pred_xgb)}')"
      ],
      "metadata": {
        "colab": {
          "base_uri": "https://localhost:8080/"
        },
        "id": "RcIik0wZKf1E",
        "outputId": "d0910cd9-44c5-4aa2-9315-6c6f6b3bc715"
      },
      "execution_count": null,
      "outputs": [
        {
          "output_type": "stream",
          "name": "stdout",
          "text": [
            "Confusion Matrix (XGB):\n",
            "\n",
            "[[654  65]\n",
            " [ 99  30]]\n"
          ]
        }
      ]
    },
    {
      "cell_type": "code",
      "source": [
        "# Generating classification report\n",
        "print(f'Classification Report (XGB):\\n\\n{classification_report(Y_test, Y_pred_xgb)}')"
      ],
      "metadata": {
        "colab": {
          "base_uri": "https://localhost:8080/"
        },
        "id": "Jnc5UiCHKhd7",
        "outputId": "a0216ca6-0682-4a74-f70c-1c98e975e6c6"
      },
      "execution_count": null,
      "outputs": [
        {
          "output_type": "stream",
          "name": "stdout",
          "text": [
            "Classification Report (XGB):\n",
            "\n",
            "              precision    recall  f1-score   support\n",
            "\n",
            "           0       0.87      0.91      0.89       719\n",
            "           1       0.32      0.23      0.27       129\n",
            "\n",
            "    accuracy                           0.81       848\n",
            "   macro avg       0.59      0.57      0.58       848\n",
            "weighted avg       0.78      0.81      0.79       848\n",
            "\n"
          ]
        }
      ]
    },
    {
      "cell_type": "markdown",
      "source": [
        "## Checking accuracy after Feature Scaling for models like:\n",
        "1. k-Nearest Neighbors\n",
        "2. Support Vector Machine\n",
        "3. Logistic Regression"
      ],
      "metadata": {
        "id": "XC3bkijC8r_l"
      }
    },
    {
      "cell_type": "markdown",
      "source": [
        "### Feature Scaling"
      ],
      "metadata": {
        "id": "LnzxZcMk9l8N"
      }
    },
    {
      "cell_type": "code",
      "source": [
        "scaler = StandardScaler()\n",
        "X_train_scaled = scaler.fit_transform(X_train_resampled)\n",
        "X_test_scaled = scaler.transform(X_test)"
      ],
      "metadata": {
        "id": "34hDajgG9pDs"
      },
      "execution_count": null,
      "outputs": []
    },
    {
      "cell_type": "markdown",
      "source": [
        "### Training the Models"
      ],
      "metadata": {
        "id": "rlUm4PAO-BCl"
      }
    },
    {
      "cell_type": "markdown",
      "source": [
        "#### k-Nearest Neighbors:\n",
        "---"
      ],
      "metadata": {
        "id": "JGu1T_pLAnjA"
      }
    },
    {
      "cell_type": "code",
      "source": [
        "# Trainning the model\n",
        "best_accuracy = 0\n",
        "best_k = 0\n",
        "\n",
        "for i in range(1, 100, 1):\n",
        "    knn_model = KNeighborsClassifier(n_neighbors = i)\n",
        "    knn_model.fit(X_train_scaled, Y_train_resampled)\n",
        "\n",
        "    # Predicting on original test data\n",
        "    Y_pred_knn = knn_model.predict(X_test_scaled)\n",
        "\n",
        "    # Checking accuracy\n",
        "    accuracy_knn = accuracy_score(Y_test, Y_pred_knn)\n",
        "\n",
        "    if (accuracy_knn > best_accuracy):\n",
        "        best_accuracy = accuracy_knn\n",
        "        best_k = i\n",
        "\n",
        "accuracy_knn = best_accuracy\n",
        "\n",
        "print(f'Best k value: {best_k}')\n",
        "print(f'Test Data Accuracy (KNN) ----> {accuracy_knn * 100:.2f}%')"
      ],
      "metadata": {
        "id": "gN99-ivOIzde",
        "colab": {
          "base_uri": "https://localhost:8080/"
        },
        "outputId": "069c00f7-5151-4dc8-c9b4-b6d853b2629b"
      },
      "execution_count": null,
      "outputs": [
        {
          "output_type": "stream",
          "name": "stdout",
          "text": [
            "Best k value: 2\n",
            "Test Data Accuracy (KNN) ----> 74.17%\n"
          ]
        }
      ]
    },
    {
      "cell_type": "code",
      "source": [
        "# Generating confusion matrix\n",
        "print(f'Confusion Matrix (KNN):\\n\\n{confusion_matrix(Y_test, Y_pred_knn)}')"
      ],
      "metadata": {
        "colab": {
          "base_uri": "https://localhost:8080/"
        },
        "id": "yFiOn7UTA_iT",
        "outputId": "f9fef6af-deb5-44f0-c689-ae736415f83a"
      },
      "execution_count": null,
      "outputs": [
        {
          "output_type": "stream",
          "name": "stdout",
          "text": [
            "Confusion Matrix (KNN):\n",
            "\n",
            "[[435 284]\n",
            " [ 59  70]]\n"
          ]
        }
      ]
    },
    {
      "cell_type": "code",
      "source": [
        "# Generating classification report\n",
        "print(f'Classification Report (KNN):\\n\\n{classification_report(Y_test, Y_pred_knn)}')"
      ],
      "metadata": {
        "colab": {
          "base_uri": "https://localhost:8080/"
        },
        "id": "ys82hnQZBB44",
        "outputId": "72c8a5cc-1722-4f15-b2a9-8cd0eda7a297"
      },
      "execution_count": null,
      "outputs": [
        {
          "output_type": "stream",
          "name": "stdout",
          "text": [
            "Classification Report (KNN):\n",
            "\n",
            "              precision    recall  f1-score   support\n",
            "\n",
            "           0       0.88      0.61      0.72       719\n",
            "           1       0.20      0.54      0.29       129\n",
            "\n",
            "    accuracy                           0.60       848\n",
            "   macro avg       0.54      0.57      0.50       848\n",
            "weighted avg       0.78      0.60      0.65       848\n",
            "\n"
          ]
        }
      ]
    },
    {
      "cell_type": "markdown",
      "source": [
        "#### Support Vector Machine:\n",
        "---"
      ],
      "metadata": {
        "id": "-1a49_YgA6eu"
      }
    },
    {
      "cell_type": "code",
      "source": [
        "# Trainning the model\n",
        "best_accuracy = 0\n",
        "best_kernel = ''\n",
        "kernels = ['linear', 'rbf', 'poly', 'sigmoid']\n",
        "\n",
        "for i in kernels:\n",
        "    svm_model = SVC(kernel = i, C=10)\n",
        "    svm_model.fit(X_train_scaled, Y_train_resampled)\n",
        "\n",
        "    # Predicting on original test data\n",
        "    Y_pred_svm = svm_model.predict(X_test_scaled)\n",
        "\n",
        "    # Checking accuracy\n",
        "    accuracy_svm = accuracy_score(Y_test, Y_pred_svm)\n",
        "\n",
        "    if (accuracy_svm > best_accuracy):\n",
        "        best_accuracy = accuracy_svm\n",
        "        best_kernel = i\n",
        "\n",
        "accuracy_svm = best_accuracy\n",
        "\n",
        "print(f'Best Kernel: {best_kernel}')\n",
        "print(f'Test Data Accuracy (SVM) ----> {accuracy_svm * 100:.2f}%')"
      ],
      "metadata": {
        "colab": {
          "base_uri": "https://localhost:8080/"
        },
        "id": "xo0aZz8SAIgB",
        "outputId": "1e0a27dc-3d76-4e4e-b241-8818c1dba9d0"
      },
      "execution_count": null,
      "outputs": [
        {
          "output_type": "stream",
          "name": "stdout",
          "text": [
            "Best Kernel: rbf\n",
            "Test Data Accuracy (SVM) ----> 71.34%\n"
          ]
        }
      ]
    },
    {
      "cell_type": "code",
      "source": [
        "# Generating confusion matrix\n",
        "print(f'Confusion Matrix (SVM):\\n\\n{confusion_matrix(Y_test, Y_pred_svm)}')"
      ],
      "metadata": {
        "colab": {
          "base_uri": "https://localhost:8080/"
        },
        "id": "hrHJXseTBEwD",
        "outputId": "76c39d71-35f7-496b-cb2f-217585493dca"
      },
      "execution_count": null,
      "outputs": [
        {
          "output_type": "stream",
          "name": "stdout",
          "text": [
            "Confusion Matrix (SVM):\n",
            "\n",
            "[[411 308]\n",
            " [ 70  59]]\n"
          ]
        }
      ]
    },
    {
      "cell_type": "code",
      "source": [
        "# Generating classification report\n",
        "print(f'Classification Report (SVM):\\n\\n{classification_report(Y_test, Y_pred_svm)}')"
      ],
      "metadata": {
        "colab": {
          "base_uri": "https://localhost:8080/"
        },
        "id": "4j_BQ416BG9L",
        "outputId": "46b0934c-4c4e-4981-8fd2-c86af47e771e"
      },
      "execution_count": null,
      "outputs": [
        {
          "output_type": "stream",
          "name": "stdout",
          "text": [
            "Classification Report (SVM):\n",
            "\n",
            "              precision    recall  f1-score   support\n",
            "\n",
            "           0       0.85      0.57      0.69       719\n",
            "           1       0.16      0.46      0.24       129\n",
            "\n",
            "    accuracy                           0.55       848\n",
            "   macro avg       0.51      0.51      0.46       848\n",
            "weighted avg       0.75      0.55      0.62       848\n",
            "\n"
          ]
        }
      ]
    },
    {
      "cell_type": "markdown",
      "source": [
        "#### Logistic Regression:\n",
        "---"
      ],
      "metadata": {
        "id": "cG_DSo90ATI4"
      }
    },
    {
      "cell_type": "code",
      "source": [
        "# Trainning the model\n",
        "lr_model = LogisticRegression(max_iter = 1000, C = 10)\n",
        "lr_model.fit(X_train_scaled, Y_train_resampled)\n",
        "\n",
        "# Predicting on original test data\n",
        "Y_pred_lr = lr_model.predict(X_test_scaled)\n",
        "\n",
        "# Checking accuracy\n",
        "accuracy_lr = accuracy_score(Y_test, Y_pred_lr)\n",
        "\n",
        "print(f'Test Data Accuracy (LR) ----> {accuracy_lr * 100:.2f}%')"
      ],
      "metadata": {
        "colab": {
          "base_uri": "https://localhost:8080/"
        },
        "id": "BW4PNyb0_jQZ",
        "outputId": "feebfaaa-3793-48aa-fa2d-7b1bed6af995"
      },
      "execution_count": null,
      "outputs": [
        {
          "output_type": "stream",
          "name": "stdout",
          "text": [
            "Test Data Accuracy (LR) ----> 66.27%\n"
          ]
        }
      ]
    },
    {
      "cell_type": "code",
      "source": [
        "# Generating confusion matrix\n",
        "print(f'Confusion Matrix (LR):\\n\\n{confusion_matrix(Y_test, Y_pred_lr)}')"
      ],
      "metadata": {
        "colab": {
          "base_uri": "https://localhost:8080/"
        },
        "id": "vg2bm2cyAOwf",
        "outputId": "ca320058-5e69-4914-f751-29556eff1bf7"
      },
      "execution_count": null,
      "outputs": [
        {
          "output_type": "stream",
          "name": "stdout",
          "text": [
            "Confusion Matrix (LR):\n",
            "\n",
            "[[499 220]\n",
            " [ 66  63]]\n"
          ]
        }
      ]
    },
    {
      "cell_type": "code",
      "source": [
        "# Generating classification report\n",
        "print(f'Classification Report (LR):\\n\\n{classification_report(Y_test, Y_pred_lr)}')"
      ],
      "metadata": {
        "colab": {
          "base_uri": "https://localhost:8080/"
        },
        "id": "hwR7qBqmARrr",
        "outputId": "9153b5a4-5119-4669-a021-f85095596408"
      },
      "execution_count": null,
      "outputs": [
        {
          "output_type": "stream",
          "name": "stdout",
          "text": [
            "Classification Report (LR):\n",
            "\n",
            "              precision    recall  f1-score   support\n",
            "\n",
            "           0       0.88      0.69      0.78       719\n",
            "           1       0.22      0.49      0.31       129\n",
            "\n",
            "    accuracy                           0.66       848\n",
            "   macro avg       0.55      0.59      0.54       848\n",
            "weighted avg       0.78      0.66      0.71       848\n",
            "\n"
          ]
        }
      ]
    },
    {
      "cell_type": "markdown",
      "source": [
        "## Visualizing the Prediction Accuracy using Bar Chart"
      ],
      "metadata": {
        "id": "4noo3ItLB6rj"
      }
    },
    {
      "cell_type": "code",
      "source": [
        "import matplotlib.pyplot as plt\n",
        "from matplotlib.ticker import PercentFormatter\n",
        "\n",
        "# Your current code\n",
        "used_models = ['DT', 'RF', 'XGB', 'KNN', 'SVM', 'LR']\n",
        "accuracies = [accuracy_dt, accuracy_rf, accuracy_xgb, accuracy_knn, accuracy_svm, accuracy_lr]\n",
        "colors = ['#003f5c', '#444e86', '#955196', '#dd5182', '#ff6e54', '#ffa600']\n",
        "\n",
        "plt.figure(figsize=(8, 6))\n",
        "bars = plt.bar(used_models, accuracies, color=colors)\n",
        "\n",
        "# Adding percentages on top of bars\n",
        "for bar, accuracy in zip(bars, accuracies):\n",
        "    plt.text(bar.get_x() + bar.get_width() / 2, bar.get_height() + 0.01, f'{accuracy:.2%}', ha='center', color='black', fontsize=14)\n",
        "\n",
        "plt.title('Accuracy of 6 Machine Learning Models')\n",
        "plt.xlabel('Used Models')\n",
        "plt.ylabel('Accuracy Score')\n",
        "plt.ylim(0, 1.1)\n",
        "\n",
        "plt.gca().yaxis.set_major_formatter(PercentFormatter(1))\n",
        "\n",
        "plt.grid(axis='y', linestyle='--', alpha=0.3, color='black')\n",
        "\n",
        "plt.show()\n"
      ],
      "metadata": {
        "colab": {
          "base_uri": "https://localhost:8080/",
          "height": 564
        },
        "id": "QOu-77YTBWP9",
        "outputId": "14029b02-886a-4b4f-9ea5-7873b3927890"
      },
      "execution_count": null,
      "outputs": [
        {
          "output_type": "display_data",
          "data": {
            "text/plain": [
              "<Figure size 800x600 with 1 Axes>"
            ],
            "image/png": "[encoded data removed]"
          },
          "metadata": {}
        }
      ]
    }
  ]
}
